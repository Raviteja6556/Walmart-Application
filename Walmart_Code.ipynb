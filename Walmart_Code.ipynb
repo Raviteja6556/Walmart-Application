{
  "nbformat": 4,
  "nbformat_minor": 0,
  "metadata": {
    "colab": {
      "provenance": []
    },
    "kernelspec": {
      "name": "python3",
      "display_name": "Python 3"
    },
    "language_info": {
      "name": "python"
    }
  },
  "cells": [
    {
      "cell_type": "markdown",
      "source": [
        "# Name:: Raviteja\n",
        "# Business Case: Walmart - Confidence Interval and CLT\n",
        "# I am Facing some issues while downloading the file .Please Excuse me and I am sharing the link as well\n",
        "# Direct link to this note book::\n",
        "https://colab.research.google.com/drive/1ZtHsUh_xXWwzb8_1V3kyOzQI4eU8mMnj?usp=sharing"
      ],
      "metadata": {
        "id": "W6uPLrnO6VPl"
      }
    },
    {
      "cell_type": "code",
      "source": [
        "!gdown https://d2beiqkhq929f0.cloudfront.net/public_assets/assets/000/001/293/original/walmart_data.csv?1641285094"
      ],
      "metadata": {
        "colab": {
          "base_uri": "https://localhost:8080/"
        },
        "id": "Ii_IdGZH8CuT",
        "outputId": "6d49dc7d-5c60-454d-c0f9-955462811d62"
      },
      "execution_count": null,
      "outputs": [
        {
          "output_type": "stream",
          "name": "stdout",
          "text": [
            "Downloading...\n",
            "From: https://d2beiqkhq929f0.cloudfront.net/public_assets/assets/000/001/293/original/walmart_data.csv?1641285094\n",
            "To: /content/walmart_data.csv?1641285094\n",
            "100% 23.0M/23.0M [00:00<00:00, 58.5MB/s]\n"
          ]
        }
      ]
    },
    {
      "cell_type": "markdown",
      "source": [
        "##Importing all the libraries for analyzing the case study\n"
      ],
      "metadata": {
        "id": "3j9GzkOWLA7b"
      }
    },
    {
      "cell_type": "code",
      "source": [
        "import numpy as np\n",
        "import pandas as pd\n",
        "import matplotlib.pyplot as plt\n",
        "import seaborn as sns\n",
        "import scipy.stats as stats\n",
        "import math\n",
        "from scipy.stats import binom,geom,norm\n",
        "a=pd.read_csv(\"ravi\") ## Renamed the file as ravi\n",
        "a"
      ],
      "metadata": {
        "colab": {
          "base_uri": "https://localhost:8080/",
          "height": 582
        },
        "id": "7BJP4IKy6Tuk",
        "outputId": "36f960e2-3d19-4a3a-cd40-cf48f175a605"
      },
      "execution_count": null,
      "outputs": [
        {
          "output_type": "execute_result",
          "data": {
            "text/plain": [
              "        User_ID Product_ID Gender    Age  Occupation City_Category  \\\n",
              "0       1000001  P00069042      F   0-17          10             A   \n",
              "1       1000001  P00248942      F   0-17          10             A   \n",
              "2       1000001  P00087842      F   0-17          10             A   \n",
              "3       1000001  P00085442      F   0-17          10             A   \n",
              "4       1000002  P00285442      M    55+          16             C   \n",
              "...         ...        ...    ...    ...         ...           ...   \n",
              "550063  1006033  P00372445      M  51-55          13             B   \n",
              "550064  1006035  P00375436      F  26-35           1             C   \n",
              "550065  1006036  P00375436      F  26-35          15             B   \n",
              "550066  1006038  P00375436      F    55+           1             C   \n",
              "550067  1006039  P00371644      F  46-50           0             B   \n",
              "\n",
              "       Stay_In_Current_City_Years  Marital_Status  Product_Category  Purchase  \n",
              "0                               2               0                 3      8370  \n",
              "1                               2               0                 1     15200  \n",
              "2                               2               0                12      1422  \n",
              "3                               2               0                12      1057  \n",
              "4                              4+               0                 8      7969  \n",
              "...                           ...             ...               ...       ...  \n",
              "550063                          1               1                20       368  \n",
              "550064                          3               0                20       371  \n",
              "550065                         4+               1                20       137  \n",
              "550066                          2               0                20       365  \n",
              "550067                         4+               1                20       490  \n",
              "\n",
              "[550068 rows x 10 columns]"
            ],
            "text/html": [
              "\n",
              "  <div id=\"df-c2d16ef9-e723-4efb-8bb6-a40c2a7928bb\" class=\"colab-df-container\">\n",
              "    <div>\n",
              "<style scoped>\n",
              "    .dataframe tbody tr th:only-of-type {\n",
              "        vertical-align: middle;\n",
              "    }\n",
              "\n",
              "    .dataframe tbody tr th {\n",
              "        vertical-align: top;\n",
              "    }\n",
              "\n",
              "    .dataframe thead th {\n",
              "        text-align: right;\n",
              "    }\n",
              "</style>\n",
              "<table border=\"1\" class=\"dataframe\">\n",
              "  <thead>\n",
              "    <tr style=\"text-align: right;\">\n",
              "      <th></th>\n",
              "      <th>User_ID</th>\n",
              "      <th>Product_ID</th>\n",
              "      <th>Gender</th>\n",
              "      <th>Age</th>\n",
              "      <th>Occupation</th>\n",
              "      <th>City_Category</th>\n",
              "      <th>Stay_In_Current_City_Years</th>\n",
              "      <th>Marital_Status</th>\n",
              "      <th>Product_Category</th>\n",
              "      <th>Purchase</th>\n",
              "    </tr>\n",
              "  </thead>\n",
              "  <tbody>\n",
              "    <tr>\n",
              "      <th>0</th>\n",
              "      <td>1000001</td>\n",
              "      <td>P00069042</td>\n",
              "      <td>F</td>\n",
              "      <td>0-17</td>\n",
              "      <td>10</td>\n",
              "      <td>A</td>\n",
              "      <td>2</td>\n",
              "      <td>0</td>\n",
              "      <td>3</td>\n",
              "      <td>8370</td>\n",
              "    </tr>\n",
              "    <tr>\n",
              "      <th>1</th>\n",
              "      <td>1000001</td>\n",
              "      <td>P00248942</td>\n",
              "      <td>F</td>\n",
              "      <td>0-17</td>\n",
              "      <td>10</td>\n",
              "      <td>A</td>\n",
              "      <td>2</td>\n",
              "      <td>0</td>\n",
              "      <td>1</td>\n",
              "      <td>15200</td>\n",
              "    </tr>\n",
              "    <tr>\n",
              "      <th>2</th>\n",
              "      <td>1000001</td>\n",
              "      <td>P00087842</td>\n",
              "      <td>F</td>\n",
              "      <td>0-17</td>\n",
              "      <td>10</td>\n",
              "      <td>A</td>\n",
              "      <td>2</td>\n",
              "      <td>0</td>\n",
              "      <td>12</td>\n",
              "      <td>1422</td>\n",
              "    </tr>\n",
              "    <tr>\n",
              "      <th>3</th>\n",
              "      <td>1000001</td>\n",
              "      <td>P00085442</td>\n",
              "      <td>F</td>\n",
              "      <td>0-17</td>\n",
              "      <td>10</td>\n",
              "      <td>A</td>\n",
              "      <td>2</td>\n",
              "      <td>0</td>\n",
              "      <td>12</td>\n",
              "      <td>1057</td>\n",
              "    </tr>\n",
              "    <tr>\n",
              "      <th>4</th>\n",
              "      <td>1000002</td>\n",
              "      <td>P00285442</td>\n",
              "      <td>M</td>\n",
              "      <td>55+</td>\n",
              "      <td>16</td>\n",
              "      <td>C</td>\n",
              "      <td>4+</td>\n",
              "      <td>0</td>\n",
              "      <td>8</td>\n",
              "      <td>7969</td>\n",
              "    </tr>\n",
              "    <tr>\n",
              "      <th>...</th>\n",
              "      <td>...</td>\n",
              "      <td>...</td>\n",
              "      <td>...</td>\n",
              "      <td>...</td>\n",
              "      <td>...</td>\n",
              "      <td>...</td>\n",
              "      <td>...</td>\n",
              "      <td>...</td>\n",
              "      <td>...</td>\n",
              "      <td>...</td>\n",
              "    </tr>\n",
              "    <tr>\n",
              "      <th>550063</th>\n",
              "      <td>1006033</td>\n",
              "      <td>P00372445</td>\n",
              "      <td>M</td>\n",
              "      <td>51-55</td>\n",
              "      <td>13</td>\n",
              "      <td>B</td>\n",
              "      <td>1</td>\n",
              "      <td>1</td>\n",
              "      <td>20</td>\n",
              "      <td>368</td>\n",
              "    </tr>\n",
              "    <tr>\n",
              "      <th>550064</th>\n",
              "      <td>1006035</td>\n",
              "      <td>P00375436</td>\n",
              "      <td>F</td>\n",
              "      <td>26-35</td>\n",
              "      <td>1</td>\n",
              "      <td>C</td>\n",
              "      <td>3</td>\n",
              "      <td>0</td>\n",
              "      <td>20</td>\n",
              "      <td>371</td>\n",
              "    </tr>\n",
              "    <tr>\n",
              "      <th>550065</th>\n",
              "      <td>1006036</td>\n",
              "      <td>P00375436</td>\n",
              "      <td>F</td>\n",
              "      <td>26-35</td>\n",
              "      <td>15</td>\n",
              "      <td>B</td>\n",
              "      <td>4+</td>\n",
              "      <td>1</td>\n",
              "      <td>20</td>\n",
              "      <td>137</td>\n",
              "    </tr>\n",
              "    <tr>\n",
              "      <th>550066</th>\n",
              "      <td>1006038</td>\n",
              "      <td>P00375436</td>\n",
              "      <td>F</td>\n",
              "      <td>55+</td>\n",
              "      <td>1</td>\n",
              "      <td>C</td>\n",
              "      <td>2</td>\n",
              "      <td>0</td>\n",
              "      <td>20</td>\n",
              "      <td>365</td>\n",
              "    </tr>\n",
              "    <tr>\n",
              "      <th>550067</th>\n",
              "      <td>1006039</td>\n",
              "      <td>P00371644</td>\n",
              "      <td>F</td>\n",
              "      <td>46-50</td>\n",
              "      <td>0</td>\n",
              "      <td>B</td>\n",
              "      <td>4+</td>\n",
              "      <td>1</td>\n",
              "      <td>20</td>\n",
              "      <td>490</td>\n",
              "    </tr>\n",
              "  </tbody>\n",
              "</table>\n",
              "<p>550068 rows × 10 columns</p>\n",
              "</div>\n",
              "    <div class=\"colab-df-buttons\">\n",
              "\n",
              "  <div class=\"colab-df-container\">\n",
              "    <button class=\"colab-df-convert\" onclick=\"convertToInteractive('df-c2d16ef9-e723-4efb-8bb6-a40c2a7928bb')\"\n",
              "            title=\"Convert this dataframe to an interactive table.\"\n",
              "            style=\"display:none;\">\n",
              "\n",
              "  <svg xmlns=\"http://www.w3.org/2000/svg\" height=\"24px\" viewBox=\"0 -960 960 960\">\n",
              "    <path d=\"M120-120v-720h720v720H120Zm60-500h600v-160H180v160Zm220 220h160v-160H400v160Zm0 220h160v-160H400v160ZM180-400h160v-160H180v160Zm440 0h160v-160H620v160ZM180-180h160v-160H180v160Zm440 0h160v-160H620v160Z\"/>\n",
              "  </svg>\n",
              "    </button>\n",
              "\n",
              "  <style>\n",
              "    .colab-df-container {\n",
              "      display:flex;\n",
              "      gap: 12px;\n",
              "    }\n",
              "\n",
              "    .colab-df-convert {\n",
              "      background-color: #E8F0FE;\n",
              "      border: none;\n",
              "      border-radius: 50%;\n",
              "      cursor: pointer;\n",
              "      display: none;\n",
              "      fill: #1967D2;\n",
              "      height: 32px;\n",
              "      padding: 0 0 0 0;\n",
              "      width: 32px;\n",
              "    }\n",
              "\n",
              "    .colab-df-convert:hover {\n",
              "      background-color: #E2EBFA;\n",
              "      box-shadow: 0px 1px 2px rgba(60, 64, 67, 0.3), 0px 1px 3px 1px rgba(60, 64, 67, 0.15);\n",
              "      fill: #174EA6;\n",
              "    }\n",
              "\n",
              "    .colab-df-buttons div {\n",
              "      margin-bottom: 4px;\n",
              "    }\n",
              "\n",
              "    [theme=dark] .colab-df-convert {\n",
              "      background-color: #3B4455;\n",
              "      fill: #D2E3FC;\n",
              "    }\n",
              "\n",
              "    [theme=dark] .colab-df-convert:hover {\n",
              "      background-color: #434B5C;\n",
              "      box-shadow: 0px 1px 3px 1px rgba(0, 0, 0, 0.15);\n",
              "      filter: drop-shadow(0px 1px 2px rgba(0, 0, 0, 0.3));\n",
              "      fill: #FFFFFF;\n",
              "    }\n",
              "  </style>\n",
              "\n",
              "    <script>\n",
              "      const buttonEl =\n",
              "        document.querySelector('#df-c2d16ef9-e723-4efb-8bb6-a40c2a7928bb button.colab-df-convert');\n",
              "      buttonEl.style.display =\n",
              "        google.colab.kernel.accessAllowed ? 'block' : 'none';\n",
              "\n",
              "      async function convertToInteractive(key) {\n",
              "        const element = document.querySelector('#df-c2d16ef9-e723-4efb-8bb6-a40c2a7928bb');\n",
              "        const dataTable =\n",
              "          await google.colab.kernel.invokeFunction('convertToInteractive',\n",
              "                                                    [key], {});\n",
              "        if (!dataTable) return;\n",
              "\n",
              "        const docLinkHtml = 'Like what you see? Visit the ' +\n",
              "          '<a target=\"_blank\" href=https://colab.research.google.com/notebooks/data_table.ipynb>data table notebook</a>'\n",
              "          + ' to learn more about interactive tables.';\n",
              "        element.innerHTML = '';\n",
              "        dataTable['output_type'] = 'display_data';\n",
              "        await google.colab.output.renderOutput(dataTable, element);\n",
              "        const docLink = document.createElement('div');\n",
              "        docLink.innerHTML = docLinkHtml;\n",
              "        element.appendChild(docLink);\n",
              "      }\n",
              "    </script>\n",
              "  </div>\n",
              "\n",
              "\n",
              "<div id=\"df-3e13ab5b-6d49-44dd-a73a-c2545d5efe37\">\n",
              "  <button class=\"colab-df-quickchart\" onclick=\"quickchart('df-3e13ab5b-6d49-44dd-a73a-c2545d5efe37')\"\n",
              "            title=\"Suggest charts\"\n",
              "            style=\"display:none;\">\n",
              "\n",
              "<svg xmlns=\"http://www.w3.org/2000/svg\" height=\"24px\"viewBox=\"0 0 24 24\"\n",
              "     width=\"24px\">\n",
              "    <g>\n",
              "        <path d=\"M19 3H5c-1.1 0-2 .9-2 2v14c0 1.1.9 2 2 2h14c1.1 0 2-.9 2-2V5c0-1.1-.9-2-2-2zM9 17H7v-7h2v7zm4 0h-2V7h2v10zm4 0h-2v-4h2v4z\"/>\n",
              "    </g>\n",
              "</svg>\n",
              "  </button>\n",
              "\n",
              "<style>\n",
              "  .colab-df-quickchart {\n",
              "      --bg-color: #E8F0FE;\n",
              "      --fill-color: #1967D2;\n",
              "      --hover-bg-color: #E2EBFA;\n",
              "      --hover-fill-color: #174EA6;\n",
              "      --disabled-fill-color: #AAA;\n",
              "      --disabled-bg-color: #DDD;\n",
              "  }\n",
              "\n",
              "  [theme=dark] .colab-df-quickchart {\n",
              "      --bg-color: #3B4455;\n",
              "      --fill-color: #D2E3FC;\n",
              "      --hover-bg-color: #434B5C;\n",
              "      --hover-fill-color: #FFFFFF;\n",
              "      --disabled-bg-color: #3B4455;\n",
              "      --disabled-fill-color: #666;\n",
              "  }\n",
              "\n",
              "  .colab-df-quickchart {\n",
              "    background-color: var(--bg-color);\n",
              "    border: none;\n",
              "    border-radius: 50%;\n",
              "    cursor: pointer;\n",
              "    display: none;\n",
              "    fill: var(--fill-color);\n",
              "    height: 32px;\n",
              "    padding: 0;\n",
              "    width: 32px;\n",
              "  }\n",
              "\n",
              "  .colab-df-quickchart:hover {\n",
              "    background-color: var(--hover-bg-color);\n",
              "    box-shadow: 0 1px 2px rgba(60, 64, 67, 0.3), 0 1px 3px 1px rgba(60, 64, 67, 0.15);\n",
              "    fill: var(--button-hover-fill-color);\n",
              "  }\n",
              "\n",
              "  .colab-df-quickchart-complete:disabled,\n",
              "  .colab-df-quickchart-complete:disabled:hover {\n",
              "    background-color: var(--disabled-bg-color);\n",
              "    fill: var(--disabled-fill-color);\n",
              "    box-shadow: none;\n",
              "  }\n",
              "\n",
              "  .colab-df-spinner {\n",
              "    border: 2px solid var(--fill-color);\n",
              "    border-color: transparent;\n",
              "    border-bottom-color: var(--fill-color);\n",
              "    animation:\n",
              "      spin 1s steps(1) infinite;\n",
              "  }\n",
              "\n",
              "  @keyframes spin {\n",
              "    0% {\n",
              "      border-color: transparent;\n",
              "      border-bottom-color: var(--fill-color);\n",
              "      border-left-color: var(--fill-color);\n",
              "    }\n",
              "    20% {\n",
              "      border-color: transparent;\n",
              "      border-left-color: var(--fill-color);\n",
              "      border-top-color: var(--fill-color);\n",
              "    }\n",
              "    30% {\n",
              "      border-color: transparent;\n",
              "      border-left-color: var(--fill-color);\n",
              "      border-top-color: var(--fill-color);\n",
              "      border-right-color: var(--fill-color);\n",
              "    }\n",
              "    40% {\n",
              "      border-color: transparent;\n",
              "      border-right-color: var(--fill-color);\n",
              "      border-top-color: var(--fill-color);\n",
              "    }\n",
              "    60% {\n",
              "      border-color: transparent;\n",
              "      border-right-color: var(--fill-color);\n",
              "    }\n",
              "    80% {\n",
              "      border-color: transparent;\n",
              "      border-right-color: var(--fill-color);\n",
              "      border-bottom-color: var(--fill-color);\n",
              "    }\n",
              "    90% {\n",
              "      border-color: transparent;\n",
              "      border-bottom-color: var(--fill-color);\n",
              "    }\n",
              "  }\n",
              "</style>\n",
              "\n",
              "  <script>\n",
              "    async function quickchart(key) {\n",
              "      const quickchartButtonEl =\n",
              "        document.querySelector('#' + key + ' button');\n",
              "      quickchartButtonEl.disabled = true;  // To prevent multiple clicks.\n",
              "      quickchartButtonEl.classList.add('colab-df-spinner');\n",
              "      try {\n",
              "        const charts = await google.colab.kernel.invokeFunction(\n",
              "            'suggestCharts', [key], {});\n",
              "      } catch (error) {\n",
              "        console.error('Error during call to suggestCharts:', error);\n",
              "      }\n",
              "      quickchartButtonEl.classList.remove('colab-df-spinner');\n",
              "      quickchartButtonEl.classList.add('colab-df-quickchart-complete');\n",
              "    }\n",
              "    (() => {\n",
              "      let quickchartButtonEl =\n",
              "        document.querySelector('#df-3e13ab5b-6d49-44dd-a73a-c2545d5efe37 button');\n",
              "      quickchartButtonEl.style.display =\n",
              "        google.colab.kernel.accessAllowed ? 'block' : 'none';\n",
              "    })();\n",
              "  </script>\n",
              "</div>\n",
              "    </div>\n",
              "  </div>\n"
            ]
          },
          "metadata": {},
          "execution_count": 2
        }
      ]
    },
    {
      "cell_type": "markdown",
      "source": [
        "##Defining Problem Statement and Analyzing basic metrics\n"
      ],
      "metadata": {
        "id": "ym3ai2F5LSh-"
      }
    },
    {
      "cell_type": "markdown",
      "source": [
        "###Problem Statement"
      ],
      "metadata": {
        "id": "N7ds400gLl9h"
      }
    },
    {
      "cell_type": "markdown",
      "source": [
        "####The Management team at Walmart Inc. wants to analyze the customer purchase behavior (specifically, purchase amount) against the customer’s gender and the various other factors to help the business make better decisions. They want to understand if the spending habits differ between male and female customers: Do women spend more on Black Friday than men? (Assume 50 million customers are male and 50 million are female)."
      ],
      "metadata": {
        "id": "pnla1WKGMkKl"
      }
    },
    {
      "cell_type": "code",
      "source": [
        "a.shape"
      ],
      "metadata": {
        "colab": {
          "base_uri": "https://localhost:8080/"
        },
        "id": "FKBXuEgO6T3J",
        "outputId": "85d2e8c4-20c2-4eee-9eb0-b6a2d0ff8943"
      },
      "execution_count": null,
      "outputs": [
        {
          "output_type": "execute_result",
          "data": {
            "text/plain": [
              "(550068, 10)"
            ]
          },
          "metadata": {},
          "execution_count": 17
        }
      ]
    },
    {
      "cell_type": "code",
      "source": [
        "a.ndim"
      ],
      "metadata": {
        "colab": {
          "base_uri": "https://localhost:8080/"
        },
        "id": "iewd57dDDNja",
        "outputId": "133d25ca-1341-4443-8b5e-4be309f633d4"
      },
      "execution_count": null,
      "outputs": [
        {
          "output_type": "execute_result",
          "data": {
            "text/plain": [
              "2"
            ]
          },
          "metadata": {},
          "execution_count": 18
        }
      ]
    },
    {
      "cell_type": "code",
      "source": [
        "a.head(15)"
      ],
      "metadata": {
        "colab": {
          "base_uri": "https://localhost:8080/",
          "height": 519
        },
        "id": "5z7zR9TW6T6t",
        "outputId": "d8683a1c-9f42-4ede-facf-1b4fd49490c2"
      },
      "execution_count": null,
      "outputs": [
        {
          "output_type": "execute_result",
          "data": {
            "text/plain": [
              "    User_ID Product_ID Gender    Age  Occupation City_Category  \\\n",
              "0   1000001  P00069042      F   0-17          10             A   \n",
              "1   1000001  P00248942      F   0-17          10             A   \n",
              "2   1000001  P00087842      F   0-17          10             A   \n",
              "3   1000001  P00085442      F   0-17          10             A   \n",
              "4   1000002  P00285442      M    55+          16             C   \n",
              "5   1000003  P00193542      M  26-35          15             A   \n",
              "6   1000004  P00184942      M  46-50           7             B   \n",
              "7   1000004  P00346142      M  46-50           7             B   \n",
              "8   1000004   P0097242      M  46-50           7             B   \n",
              "9   1000005  P00274942      M  26-35          20             A   \n",
              "10  1000005  P00251242      M  26-35          20             A   \n",
              "11  1000005  P00014542      M  26-35          20             A   \n",
              "12  1000005  P00031342      M  26-35          20             A   \n",
              "13  1000005  P00145042      M  26-35          20             A   \n",
              "14  1000006  P00231342      F  51-55           9             A   \n",
              "\n",
              "   Stay_In_Current_City_Years  Marital_Status  Product_Category  Purchase  \n",
              "0                           2               0                 3      8370  \n",
              "1                           2               0                 1     15200  \n",
              "2                           2               0                12      1422  \n",
              "3                           2               0                12      1057  \n",
              "4                          4+               0                 8      7969  \n",
              "5                           3               0                 1     15227  \n",
              "6                           2               1                 1     19215  \n",
              "7                           2               1                 1     15854  \n",
              "8                           2               1                 1     15686  \n",
              "9                           1               1                 8      7871  \n",
              "10                          1               1                 5      5254  \n",
              "11                          1               1                 8      3957  \n",
              "12                          1               1                 8      6073  \n",
              "13                          1               1                 1     15665  \n",
              "14                          1               0                 5      5378  "
            ],
            "text/html": [
              "\n",
              "  <div id=\"df-cc220b3c-1b45-4b59-befc-77b060817b1d\" class=\"colab-df-container\">\n",
              "    <div>\n",
              "<style scoped>\n",
              "    .dataframe tbody tr th:only-of-type {\n",
              "        vertical-align: middle;\n",
              "    }\n",
              "\n",
              "    .dataframe tbody tr th {\n",
              "        vertical-align: top;\n",
              "    }\n",
              "\n",
              "    .dataframe thead th {\n",
              "        text-align: right;\n",
              "    }\n",
              "</style>\n",
              "<table border=\"1\" class=\"dataframe\">\n",
              "  <thead>\n",
              "    <tr style=\"text-align: right;\">\n",
              "      <th></th>\n",
              "      <th>User_ID</th>\n",
              "      <th>Product_ID</th>\n",
              "      <th>Gender</th>\n",
              "      <th>Age</th>\n",
              "      <th>Occupation</th>\n",
              "      <th>City_Category</th>\n",
              "      <th>Stay_In_Current_City_Years</th>\n",
              "      <th>Marital_Status</th>\n",
              "      <th>Product_Category</th>\n",
              "      <th>Purchase</th>\n",
              "    </tr>\n",
              "  </thead>\n",
              "  <tbody>\n",
              "    <tr>\n",
              "      <th>0</th>\n",
              "      <td>1000001</td>\n",
              "      <td>P00069042</td>\n",
              "      <td>F</td>\n",
              "      <td>0-17</td>\n",
              "      <td>10</td>\n",
              "      <td>A</td>\n",
              "      <td>2</td>\n",
              "      <td>0</td>\n",
              "      <td>3</td>\n",
              "      <td>8370</td>\n",
              "    </tr>\n",
              "    <tr>\n",
              "      <th>1</th>\n",
              "      <td>1000001</td>\n",
              "      <td>P00248942</td>\n",
              "      <td>F</td>\n",
              "      <td>0-17</td>\n",
              "      <td>10</td>\n",
              "      <td>A</td>\n",
              "      <td>2</td>\n",
              "      <td>0</td>\n",
              "      <td>1</td>\n",
              "      <td>15200</td>\n",
              "    </tr>\n",
              "    <tr>\n",
              "      <th>2</th>\n",
              "      <td>1000001</td>\n",
              "      <td>P00087842</td>\n",
              "      <td>F</td>\n",
              "      <td>0-17</td>\n",
              "      <td>10</td>\n",
              "      <td>A</td>\n",
              "      <td>2</td>\n",
              "      <td>0</td>\n",
              "      <td>12</td>\n",
              "      <td>1422</td>\n",
              "    </tr>\n",
              "    <tr>\n",
              "      <th>3</th>\n",
              "      <td>1000001</td>\n",
              "      <td>P00085442</td>\n",
              "      <td>F</td>\n",
              "      <td>0-17</td>\n",
              "      <td>10</td>\n",
              "      <td>A</td>\n",
              "      <td>2</td>\n",
              "      <td>0</td>\n",
              "      <td>12</td>\n",
              "      <td>1057</td>\n",
              "    </tr>\n",
              "    <tr>\n",
              "      <th>4</th>\n",
              "      <td>1000002</td>\n",
              "      <td>P00285442</td>\n",
              "      <td>M</td>\n",
              "      <td>55+</td>\n",
              "      <td>16</td>\n",
              "      <td>C</td>\n",
              "      <td>4+</td>\n",
              "      <td>0</td>\n",
              "      <td>8</td>\n",
              "      <td>7969</td>\n",
              "    </tr>\n",
              "    <tr>\n",
              "      <th>5</th>\n",
              "      <td>1000003</td>\n",
              "      <td>P00193542</td>\n",
              "      <td>M</td>\n",
              "      <td>26-35</td>\n",
              "      <td>15</td>\n",
              "      <td>A</td>\n",
              "      <td>3</td>\n",
              "      <td>0</td>\n",
              "      <td>1</td>\n",
              "      <td>15227</td>\n",
              "    </tr>\n",
              "    <tr>\n",
              "      <th>6</th>\n",
              "      <td>1000004</td>\n",
              "      <td>P00184942</td>\n",
              "      <td>M</td>\n",
              "      <td>46-50</td>\n",
              "      <td>7</td>\n",
              "      <td>B</td>\n",
              "      <td>2</td>\n",
              "      <td>1</td>\n",
              "      <td>1</td>\n",
              "      <td>19215</td>\n",
              "    </tr>\n",
              "    <tr>\n",
              "      <th>7</th>\n",
              "      <td>1000004</td>\n",
              "      <td>P00346142</td>\n",
              "      <td>M</td>\n",
              "      <td>46-50</td>\n",
              "      <td>7</td>\n",
              "      <td>B</td>\n",
              "      <td>2</td>\n",
              "      <td>1</td>\n",
              "      <td>1</td>\n",
              "      <td>15854</td>\n",
              "    </tr>\n",
              "    <tr>\n",
              "      <th>8</th>\n",
              "      <td>1000004</td>\n",
              "      <td>P0097242</td>\n",
              "      <td>M</td>\n",
              "      <td>46-50</td>\n",
              "      <td>7</td>\n",
              "      <td>B</td>\n",
              "      <td>2</td>\n",
              "      <td>1</td>\n",
              "      <td>1</td>\n",
              "      <td>15686</td>\n",
              "    </tr>\n",
              "    <tr>\n",
              "      <th>9</th>\n",
              "      <td>1000005</td>\n",
              "      <td>P00274942</td>\n",
              "      <td>M</td>\n",
              "      <td>26-35</td>\n",
              "      <td>20</td>\n",
              "      <td>A</td>\n",
              "      <td>1</td>\n",
              "      <td>1</td>\n",
              "      <td>8</td>\n",
              "      <td>7871</td>\n",
              "    </tr>\n",
              "    <tr>\n",
              "      <th>10</th>\n",
              "      <td>1000005</td>\n",
              "      <td>P00251242</td>\n",
              "      <td>M</td>\n",
              "      <td>26-35</td>\n",
              "      <td>20</td>\n",
              "      <td>A</td>\n",
              "      <td>1</td>\n",
              "      <td>1</td>\n",
              "      <td>5</td>\n",
              "      <td>5254</td>\n",
              "    </tr>\n",
              "    <tr>\n",
              "      <th>11</th>\n",
              "      <td>1000005</td>\n",
              "      <td>P00014542</td>\n",
              "      <td>M</td>\n",
              "      <td>26-35</td>\n",
              "      <td>20</td>\n",
              "      <td>A</td>\n",
              "      <td>1</td>\n",
              "      <td>1</td>\n",
              "      <td>8</td>\n",
              "      <td>3957</td>\n",
              "    </tr>\n",
              "    <tr>\n",
              "      <th>12</th>\n",
              "      <td>1000005</td>\n",
              "      <td>P00031342</td>\n",
              "      <td>M</td>\n",
              "      <td>26-35</td>\n",
              "      <td>20</td>\n",
              "      <td>A</td>\n",
              "      <td>1</td>\n",
              "      <td>1</td>\n",
              "      <td>8</td>\n",
              "      <td>6073</td>\n",
              "    </tr>\n",
              "    <tr>\n",
              "      <th>13</th>\n",
              "      <td>1000005</td>\n",
              "      <td>P00145042</td>\n",
              "      <td>M</td>\n",
              "      <td>26-35</td>\n",
              "      <td>20</td>\n",
              "      <td>A</td>\n",
              "      <td>1</td>\n",
              "      <td>1</td>\n",
              "      <td>1</td>\n",
              "      <td>15665</td>\n",
              "    </tr>\n",
              "    <tr>\n",
              "      <th>14</th>\n",
              "      <td>1000006</td>\n",
              "      <td>P00231342</td>\n",
              "      <td>F</td>\n",
              "      <td>51-55</td>\n",
              "      <td>9</td>\n",
              "      <td>A</td>\n",
              "      <td>1</td>\n",
              "      <td>0</td>\n",
              "      <td>5</td>\n",
              "      <td>5378</td>\n",
              "    </tr>\n",
              "  </tbody>\n",
              "</table>\n",
              "</div>\n",
              "    <div class=\"colab-df-buttons\">\n",
              "\n",
              "  <div class=\"colab-df-container\">\n",
              "    <button class=\"colab-df-convert\" onclick=\"convertToInteractive('df-cc220b3c-1b45-4b59-befc-77b060817b1d')\"\n",
              "            title=\"Convert this dataframe to an interactive table.\"\n",
              "            style=\"display:none;\">\n",
              "\n",
              "  <svg xmlns=\"http://www.w3.org/2000/svg\" height=\"24px\" viewBox=\"0 -960 960 960\">\n",
              "    <path d=\"M120-120v-720h720v720H120Zm60-500h600v-160H180v160Zm220 220h160v-160H400v160Zm0 220h160v-160H400v160ZM180-400h160v-160H180v160Zm440 0h160v-160H620v160ZM180-180h160v-160H180v160Zm440 0h160v-160H620v160Z\"/>\n",
              "  </svg>\n",
              "    </button>\n",
              "\n",
              "  <style>\n",
              "    .colab-df-container {\n",
              "      display:flex;\n",
              "      gap: 12px;\n",
              "    }\n",
              "\n",
              "    .colab-df-convert {\n",
              "      background-color: #E8F0FE;\n",
              "      border: none;\n",
              "      border-radius: 50%;\n",
              "      cursor: pointer;\n",
              "      display: none;\n",
              "      fill: #1967D2;\n",
              "      height: 32px;\n",
              "      padding: 0 0 0 0;\n",
              "      width: 32px;\n",
              "    }\n",
              "\n",
              "    .colab-df-convert:hover {\n",
              "      background-color: #E2EBFA;\n",
              "      box-shadow: 0px 1px 2px rgba(60, 64, 67, 0.3), 0px 1px 3px 1px rgba(60, 64, 67, 0.15);\n",
              "      fill: #174EA6;\n",
              "    }\n",
              "\n",
              "    .colab-df-buttons div {\n",
              "      margin-bottom: 4px;\n",
              "    }\n",
              "\n",
              "    [theme=dark] .colab-df-convert {\n",
              "      background-color: #3B4455;\n",
              "      fill: #D2E3FC;\n",
              "    }\n",
              "\n",
              "    [theme=dark] .colab-df-convert:hover {\n",
              "      background-color: #434B5C;\n",
              "      box-shadow: 0px 1px 3px 1px rgba(0, 0, 0, 0.15);\n",
              "      filter: drop-shadow(0px 1px 2px rgba(0, 0, 0, 0.3));\n",
              "      fill: #FFFFFF;\n",
              "    }\n",
              "  </style>\n",
              "\n",
              "    <script>\n",
              "      const buttonEl =\n",
              "        document.querySelector('#df-cc220b3c-1b45-4b59-befc-77b060817b1d button.colab-df-convert');\n",
              "      buttonEl.style.display =\n",
              "        google.colab.kernel.accessAllowed ? 'block' : 'none';\n",
              "\n",
              "      async function convertToInteractive(key) {\n",
              "        const element = document.querySelector('#df-cc220b3c-1b45-4b59-befc-77b060817b1d');\n",
              "        const dataTable =\n",
              "          await google.colab.kernel.invokeFunction('convertToInteractive',\n",
              "                                                    [key], {});\n",
              "        if (!dataTable) return;\n",
              "\n",
              "        const docLinkHtml = 'Like what you see? Visit the ' +\n",
              "          '<a target=\"_blank\" href=https://colab.research.google.com/notebooks/data_table.ipynb>data table notebook</a>'\n",
              "          + ' to learn more about interactive tables.';\n",
              "        element.innerHTML = '';\n",
              "        dataTable['output_type'] = 'display_data';\n",
              "        await google.colab.output.renderOutput(dataTable, element);\n",
              "        const docLink = document.createElement('div');\n",
              "        docLink.innerHTML = docLinkHtml;\n",
              "        element.appendChild(docLink);\n",
              "      }\n",
              "    </script>\n",
              "  </div>\n",
              "\n",
              "\n",
              "<div id=\"df-fc6f69b3-445b-41c9-940d-f07b8dc2d31d\">\n",
              "  <button class=\"colab-df-quickchart\" onclick=\"quickchart('df-fc6f69b3-445b-41c9-940d-f07b8dc2d31d')\"\n",
              "            title=\"Suggest charts.\"\n",
              "            style=\"display:none;\">\n",
              "\n",
              "<svg xmlns=\"http://www.w3.org/2000/svg\" height=\"24px\"viewBox=\"0 0 24 24\"\n",
              "     width=\"24px\">\n",
              "    <g>\n",
              "        <path d=\"M19 3H5c-1.1 0-2 .9-2 2v14c0 1.1.9 2 2 2h14c1.1 0 2-.9 2-2V5c0-1.1-.9-2-2-2zM9 17H7v-7h2v7zm4 0h-2V7h2v10zm4 0h-2v-4h2v4z\"/>\n",
              "    </g>\n",
              "</svg>\n",
              "  </button>\n",
              "\n",
              "<style>\n",
              "  .colab-df-quickchart {\n",
              "      --bg-color: #E8F0FE;\n",
              "      --fill-color: #1967D2;\n",
              "      --hover-bg-color: #E2EBFA;\n",
              "      --hover-fill-color: #174EA6;\n",
              "      --disabled-fill-color: #AAA;\n",
              "      --disabled-bg-color: #DDD;\n",
              "  }\n",
              "\n",
              "  [theme=dark] .colab-df-quickchart {\n",
              "      --bg-color: #3B4455;\n",
              "      --fill-color: #D2E3FC;\n",
              "      --hover-bg-color: #434B5C;\n",
              "      --hover-fill-color: #FFFFFF;\n",
              "      --disabled-bg-color: #3B4455;\n",
              "      --disabled-fill-color: #666;\n",
              "  }\n",
              "\n",
              "  .colab-df-quickchart {\n",
              "    background-color: var(--bg-color);\n",
              "    border: none;\n",
              "    border-radius: 50%;\n",
              "    cursor: pointer;\n",
              "    display: none;\n",
              "    fill: var(--fill-color);\n",
              "    height: 32px;\n",
              "    padding: 0;\n",
              "    width: 32px;\n",
              "  }\n",
              "\n",
              "  .colab-df-quickchart:hover {\n",
              "    background-color: var(--hover-bg-color);\n",
              "    box-shadow: 0 1px 2px rgba(60, 64, 67, 0.3), 0 1px 3px 1px rgba(60, 64, 67, 0.15);\n",
              "    fill: var(--button-hover-fill-color);\n",
              "  }\n",
              "\n",
              "  .colab-df-quickchart-complete:disabled,\n",
              "  .colab-df-quickchart-complete:disabled:hover {\n",
              "    background-color: var(--disabled-bg-color);\n",
              "    fill: var(--disabled-fill-color);\n",
              "    box-shadow: none;\n",
              "  }\n",
              "\n",
              "  .colab-df-spinner {\n",
              "    border: 2px solid var(--fill-color);\n",
              "    border-color: transparent;\n",
              "    border-bottom-color: var(--fill-color);\n",
              "    animation:\n",
              "      spin 1s steps(1) infinite;\n",
              "  }\n",
              "\n",
              "  @keyframes spin {\n",
              "    0% {\n",
              "      border-color: transparent;\n",
              "      border-bottom-color: var(--fill-color);\n",
              "      border-left-color: var(--fill-color);\n",
              "    }\n",
              "    20% {\n",
              "      border-color: transparent;\n",
              "      border-left-color: var(--fill-color);\n",
              "      border-top-color: var(--fill-color);\n",
              "    }\n",
              "    30% {\n",
              "      border-color: transparent;\n",
              "      border-left-color: var(--fill-color);\n",
              "      border-top-color: var(--fill-color);\n",
              "      border-right-color: var(--fill-color);\n",
              "    }\n",
              "    40% {\n",
              "      border-color: transparent;\n",
              "      border-right-color: var(--fill-color);\n",
              "      border-top-color: var(--fill-color);\n",
              "    }\n",
              "    60% {\n",
              "      border-color: transparent;\n",
              "      border-right-color: var(--fill-color);\n",
              "    }\n",
              "    80% {\n",
              "      border-color: transparent;\n",
              "      border-right-color: var(--fill-color);\n",
              "      border-bottom-color: var(--fill-color);\n",
              "    }\n",
              "    90% {\n",
              "      border-color: transparent;\n",
              "      border-bottom-color: var(--fill-color);\n",
              "    }\n",
              "  }\n",
              "</style>\n",
              "\n",
              "  <script>\n",
              "    async function quickchart(key) {\n",
              "      const quickchartButtonEl =\n",
              "        document.querySelector('#' + key + ' button');\n",
              "      quickchartButtonEl.disabled = true;  // To prevent multiple clicks.\n",
              "      quickchartButtonEl.classList.add('colab-df-spinner');\n",
              "      try {\n",
              "        const charts = await google.colab.kernel.invokeFunction(\n",
              "            'suggestCharts', [key], {});\n",
              "      } catch (error) {\n",
              "        console.error('Error during call to suggestCharts:', error);\n",
              "      }\n",
              "      quickchartButtonEl.classList.remove('colab-df-spinner');\n",
              "      quickchartButtonEl.classList.add('colab-df-quickchart-complete');\n",
              "    }\n",
              "    (() => {\n",
              "      let quickchartButtonEl =\n",
              "        document.querySelector('#df-fc6f69b3-445b-41c9-940d-f07b8dc2d31d button');\n",
              "      quickchartButtonEl.style.display =\n",
              "        google.colab.kernel.accessAllowed ? 'block' : 'none';\n",
              "    })();\n",
              "  </script>\n",
              "</div>\n",
              "    </div>\n",
              "  </div>\n"
            ]
          },
          "metadata": {},
          "execution_count": 27
        }
      ]
    },
    {
      "cell_type": "code",
      "source": [
        "a.info()"
      ],
      "metadata": {
        "colab": {
          "base_uri": "https://localhost:8080/"
        },
        "id": "AwS20p7S6T-M",
        "outputId": "bfbf2c9d-99fe-456e-811b-5a80ae7b28c4"
      },
      "execution_count": null,
      "outputs": [
        {
          "output_type": "stream",
          "name": "stdout",
          "text": [
            "<class 'pandas.core.frame.DataFrame'>\n",
            "RangeIndex: 550068 entries, 0 to 550067\n",
            "Data columns (total 10 columns):\n",
            " #   Column                      Non-Null Count   Dtype \n",
            "---  ------                      --------------   ----- \n",
            " 0   User_ID                     550068 non-null  int64 \n",
            " 1   Product_ID                  550068 non-null  object\n",
            " 2   Gender                      550068 non-null  object\n",
            " 3   Age                         550068 non-null  object\n",
            " 4   Occupation                  550068 non-null  int64 \n",
            " 5   City_Category               550068 non-null  object\n",
            " 6   Stay_In_Current_City_Years  550068 non-null  object\n",
            " 7   Marital_Status              550068 non-null  int64 \n",
            " 8   Product_Category            550068 non-null  int64 \n",
            " 9   Purchase                    550068 non-null  int64 \n",
            "dtypes: int64(5), object(5)\n",
            "memory usage: 42.0+ MB\n"
          ]
        }
      ]
    },
    {
      "cell_type": "code",
      "source": [
        "a.isna().sum()"
      ],
      "metadata": {
        "colab": {
          "base_uri": "https://localhost:8080/"
        },
        "id": "sIWB7W8h6UBd",
        "outputId": "aa4c5061-96d2-4ee4-af5c-0cc40e4eec93"
      },
      "execution_count": null,
      "outputs": [
        {
          "output_type": "execute_result",
          "data": {
            "text/plain": [
              "User_ID                       0\n",
              "Product_ID                    0\n",
              "Gender                        0\n",
              "Age                           0\n",
              "Occupation                    0\n",
              "City_Category                 0\n",
              "Stay_In_Current_City_Years    0\n",
              "Marital_Status                0\n",
              "Product_Category              0\n",
              "Purchase                      0\n",
              "dtype: int64"
            ]
          },
          "metadata": {},
          "execution_count": 26
        }
      ]
    },
    {
      "cell_type": "markdown",
      "source": [
        "## Insight as follows : The above dataset contain zero Null values. No Missing values.\n"
      ],
      "metadata": {
        "id": "-o_cGeMtWKwp"
      }
    },
    {
      "cell_type": "markdown",
      "source": [
        "###Converting numerical datatype to categorical datatype Changing the datatype of Occupation, Marital_Status & Product_Category"
      ],
      "metadata": {
        "id": "CUfV0MQhXQ5m"
      }
    },
    {
      "cell_type": "code",
      "source": [
        "# Changing datatype int64 to object\n",
        "columns = ['Occupation','Marital_Status','Product_Category']\n",
        "a[columns] = a[columns].astype('object')\n",
        "a.dtypes"
      ],
      "metadata": {
        "colab": {
          "base_uri": "https://localhost:8080/"
        },
        "id": "77-C34fc6UEs",
        "outputId": "8510a67e-e67a-4cbc-dea1-2ff88d7f1b94"
      },
      "execution_count": null,
      "outputs": [
        {
          "output_type": "execute_result",
          "data": {
            "text/plain": [
              "User_ID                        int64\n",
              "Product_ID                    object\n",
              "Gender                        object\n",
              "Age                           object\n",
              "Occupation                    object\n",
              "City_Category                 object\n",
              "Stay_In_Current_City_Years    object\n",
              "Marital_Status                object\n",
              "Product_Category              object\n",
              "Purchase                       int64\n",
              "dtype: object"
            ]
          },
          "metadata": {},
          "execution_count": 31
        }
      ]
    },
    {
      "cell_type": "code",
      "source": [
        "a.describe(include=\"all\")"
      ],
      "metadata": {
        "colab": {
          "base_uri": "https://localhost:8080/",
          "height": 394
        },
        "id": "5NzdRRznjwLN",
        "outputId": "4aab08ba-ae3a-4fc1-ffbb-8c43e578f9fb"
      },
      "execution_count": null,
      "outputs": [
        {
          "output_type": "execute_result",
          "data": {
            "text/plain": [
              "             User_ID Product_ID  Gender     Age  Occupation City_Category  \\\n",
              "count   5.500680e+05     550068  550068  550068    550068.0        550068   \n",
              "unique           NaN       3631       2       7        21.0             3   \n",
              "top              NaN  P00265242       M   26-35         4.0             B   \n",
              "freq             NaN       1880  414259  219587     72308.0        231173   \n",
              "mean    1.003029e+06        NaN     NaN     NaN         NaN           NaN   \n",
              "std     1.727592e+03        NaN     NaN     NaN         NaN           NaN   \n",
              "min     1.000001e+06        NaN     NaN     NaN         NaN           NaN   \n",
              "25%     1.001516e+06        NaN     NaN     NaN         NaN           NaN   \n",
              "50%     1.003077e+06        NaN     NaN     NaN         NaN           NaN   \n",
              "75%     1.004478e+06        NaN     NaN     NaN         NaN           NaN   \n",
              "max     1.006040e+06        NaN     NaN     NaN         NaN           NaN   \n",
              "\n",
              "       Stay_In_Current_City_Years  Marital_Status  Product_Category  \\\n",
              "count                      550068        550068.0          550068.0   \n",
              "unique                          5             2.0              20.0   \n",
              "top                             1             0.0               5.0   \n",
              "freq                       193821        324731.0          150933.0   \n",
              "mean                          NaN             NaN               NaN   \n",
              "std                           NaN             NaN               NaN   \n",
              "min                           NaN             NaN               NaN   \n",
              "25%                           NaN             NaN               NaN   \n",
              "50%                           NaN             NaN               NaN   \n",
              "75%                           NaN             NaN               NaN   \n",
              "max                           NaN             NaN               NaN   \n",
              "\n",
              "             Purchase  \n",
              "count   550068.000000  \n",
              "unique            NaN  \n",
              "top               NaN  \n",
              "freq              NaN  \n",
              "mean      9263.968713  \n",
              "std       5023.065394  \n",
              "min         12.000000  \n",
              "25%       5823.000000  \n",
              "50%       8047.000000  \n",
              "75%      12054.000000  \n",
              "max      23961.000000  "
            ],
            "text/html": [
              "\n",
              "  <div id=\"df-d4ef6b31-b437-45f9-a4fb-dac718715a2f\" class=\"colab-df-container\">\n",
              "    <div>\n",
              "<style scoped>\n",
              "    .dataframe tbody tr th:only-of-type {\n",
              "        vertical-align: middle;\n",
              "    }\n",
              "\n",
              "    .dataframe tbody tr th {\n",
              "        vertical-align: top;\n",
              "    }\n",
              "\n",
              "    .dataframe thead th {\n",
              "        text-align: right;\n",
              "    }\n",
              "</style>\n",
              "<table border=\"1\" class=\"dataframe\">\n",
              "  <thead>\n",
              "    <tr style=\"text-align: right;\">\n",
              "      <th></th>\n",
              "      <th>User_ID</th>\n",
              "      <th>Product_ID</th>\n",
              "      <th>Gender</th>\n",
              "      <th>Age</th>\n",
              "      <th>Occupation</th>\n",
              "      <th>City_Category</th>\n",
              "      <th>Stay_In_Current_City_Years</th>\n",
              "      <th>Marital_Status</th>\n",
              "      <th>Product_Category</th>\n",
              "      <th>Purchase</th>\n",
              "    </tr>\n",
              "  </thead>\n",
              "  <tbody>\n",
              "    <tr>\n",
              "      <th>count</th>\n",
              "      <td>5.500680e+05</td>\n",
              "      <td>550068</td>\n",
              "      <td>550068</td>\n",
              "      <td>550068</td>\n",
              "      <td>550068.0</td>\n",
              "      <td>550068</td>\n",
              "      <td>550068</td>\n",
              "      <td>550068.0</td>\n",
              "      <td>550068.0</td>\n",
              "      <td>550068.000000</td>\n",
              "    </tr>\n",
              "    <tr>\n",
              "      <th>unique</th>\n",
              "      <td>NaN</td>\n",
              "      <td>3631</td>\n",
              "      <td>2</td>\n",
              "      <td>7</td>\n",
              "      <td>21.0</td>\n",
              "      <td>3</td>\n",
              "      <td>5</td>\n",
              "      <td>2.0</td>\n",
              "      <td>20.0</td>\n",
              "      <td>NaN</td>\n",
              "    </tr>\n",
              "    <tr>\n",
              "      <th>top</th>\n",
              "      <td>NaN</td>\n",
              "      <td>P00265242</td>\n",
              "      <td>M</td>\n",
              "      <td>26-35</td>\n",
              "      <td>4.0</td>\n",
              "      <td>B</td>\n",
              "      <td>1</td>\n",
              "      <td>0.0</td>\n",
              "      <td>5.0</td>\n",
              "      <td>NaN</td>\n",
              "    </tr>\n",
              "    <tr>\n",
              "      <th>freq</th>\n",
              "      <td>NaN</td>\n",
              "      <td>1880</td>\n",
              "      <td>414259</td>\n",
              "      <td>219587</td>\n",
              "      <td>72308.0</td>\n",
              "      <td>231173</td>\n",
              "      <td>193821</td>\n",
              "      <td>324731.0</td>\n",
              "      <td>150933.0</td>\n",
              "      <td>NaN</td>\n",
              "    </tr>\n",
              "    <tr>\n",
              "      <th>mean</th>\n",
              "      <td>1.003029e+06</td>\n",
              "      <td>NaN</td>\n",
              "      <td>NaN</td>\n",
              "      <td>NaN</td>\n",
              "      <td>NaN</td>\n",
              "      <td>NaN</td>\n",
              "      <td>NaN</td>\n",
              "      <td>NaN</td>\n",
              "      <td>NaN</td>\n",
              "      <td>9263.968713</td>\n",
              "    </tr>\n",
              "    <tr>\n",
              "      <th>std</th>\n",
              "      <td>1.727592e+03</td>\n",
              "      <td>NaN</td>\n",
              "      <td>NaN</td>\n",
              "      <td>NaN</td>\n",
              "      <td>NaN</td>\n",
              "      <td>NaN</td>\n",
              "      <td>NaN</td>\n",
              "      <td>NaN</td>\n",
              "      <td>NaN</td>\n",
              "      <td>5023.065394</td>\n",
              "    </tr>\n",
              "    <tr>\n",
              "      <th>min</th>\n",
              "      <td>1.000001e+06</td>\n",
              "      <td>NaN</td>\n",
              "      <td>NaN</td>\n",
              "      <td>NaN</td>\n",
              "      <td>NaN</td>\n",
              "      <td>NaN</td>\n",
              "      <td>NaN</td>\n",
              "      <td>NaN</td>\n",
              "      <td>NaN</td>\n",
              "      <td>12.000000</td>\n",
              "    </tr>\n",
              "    <tr>\n",
              "      <th>25%</th>\n",
              "      <td>1.001516e+06</td>\n",
              "      <td>NaN</td>\n",
              "      <td>NaN</td>\n",
              "      <td>NaN</td>\n",
              "      <td>NaN</td>\n",
              "      <td>NaN</td>\n",
              "      <td>NaN</td>\n",
              "      <td>NaN</td>\n",
              "      <td>NaN</td>\n",
              "      <td>5823.000000</td>\n",
              "    </tr>\n",
              "    <tr>\n",
              "      <th>50%</th>\n",
              "      <td>1.003077e+06</td>\n",
              "      <td>NaN</td>\n",
              "      <td>NaN</td>\n",
              "      <td>NaN</td>\n",
              "      <td>NaN</td>\n",
              "      <td>NaN</td>\n",
              "      <td>NaN</td>\n",
              "      <td>NaN</td>\n",
              "      <td>NaN</td>\n",
              "      <td>8047.000000</td>\n",
              "    </tr>\n",
              "    <tr>\n",
              "      <th>75%</th>\n",
              "      <td>1.004478e+06</td>\n",
              "      <td>NaN</td>\n",
              "      <td>NaN</td>\n",
              "      <td>NaN</td>\n",
              "      <td>NaN</td>\n",
              "      <td>NaN</td>\n",
              "      <td>NaN</td>\n",
              "      <td>NaN</td>\n",
              "      <td>NaN</td>\n",
              "      <td>12054.000000</td>\n",
              "    </tr>\n",
              "    <tr>\n",
              "      <th>max</th>\n",
              "      <td>1.006040e+06</td>\n",
              "      <td>NaN</td>\n",
              "      <td>NaN</td>\n",
              "      <td>NaN</td>\n",
              "      <td>NaN</td>\n",
              "      <td>NaN</td>\n",
              "      <td>NaN</td>\n",
              "      <td>NaN</td>\n",
              "      <td>NaN</td>\n",
              "      <td>23961.000000</td>\n",
              "    </tr>\n",
              "  </tbody>\n",
              "</table>\n",
              "</div>\n",
              "    <div class=\"colab-df-buttons\">\n",
              "\n",
              "  <div class=\"colab-df-container\">\n",
              "    <button class=\"colab-df-convert\" onclick=\"convertToInteractive('df-d4ef6b31-b437-45f9-a4fb-dac718715a2f')\"\n",
              "            title=\"Convert this dataframe to an interactive table.\"\n",
              "            style=\"display:none;\">\n",
              "\n",
              "  <svg xmlns=\"http://www.w3.org/2000/svg\" height=\"24px\" viewBox=\"0 -960 960 960\">\n",
              "    <path d=\"M120-120v-720h720v720H120Zm60-500h600v-160H180v160Zm220 220h160v-160H400v160Zm0 220h160v-160H400v160ZM180-400h160v-160H180v160Zm440 0h160v-160H620v160ZM180-180h160v-160H180v160Zm440 0h160v-160H620v160Z\"/>\n",
              "  </svg>\n",
              "    </button>\n",
              "\n",
              "  <style>\n",
              "    .colab-df-container {\n",
              "      display:flex;\n",
              "      gap: 12px;\n",
              "    }\n",
              "\n",
              "    .colab-df-convert {\n",
              "      background-color: #E8F0FE;\n",
              "      border: none;\n",
              "      border-radius: 50%;\n",
              "      cursor: pointer;\n",
              "      display: none;\n",
              "      fill: #1967D2;\n",
              "      height: 32px;\n",
              "      padding: 0 0 0 0;\n",
              "      width: 32px;\n",
              "    }\n",
              "\n",
              "    .colab-df-convert:hover {\n",
              "      background-color: #E2EBFA;\n",
              "      box-shadow: 0px 1px 2px rgba(60, 64, 67, 0.3), 0px 1px 3px 1px rgba(60, 64, 67, 0.15);\n",
              "      fill: #174EA6;\n",
              "    }\n",
              "\n",
              "    .colab-df-buttons div {\n",
              "      margin-bottom: 4px;\n",
              "    }\n",
              "\n",
              "    [theme=dark] .colab-df-convert {\n",
              "      background-color: #3B4455;\n",
              "      fill: #D2E3FC;\n",
              "    }\n",
              "\n",
              "    [theme=dark] .colab-df-convert:hover {\n",
              "      background-color: #434B5C;\n",
              "      box-shadow: 0px 1px 3px 1px rgba(0, 0, 0, 0.15);\n",
              "      filter: drop-shadow(0px 1px 2px rgba(0, 0, 0, 0.3));\n",
              "      fill: #FFFFFF;\n",
              "    }\n",
              "  </style>\n",
              "\n",
              "    <script>\n",
              "      const buttonEl =\n",
              "        document.querySelector('#df-d4ef6b31-b437-45f9-a4fb-dac718715a2f button.colab-df-convert');\n",
              "      buttonEl.style.display =\n",
              "        google.colab.kernel.accessAllowed ? 'block' : 'none';\n",
              "\n",
              "      async function convertToInteractive(key) {\n",
              "        const element = document.querySelector('#df-d4ef6b31-b437-45f9-a4fb-dac718715a2f');\n",
              "        const dataTable =\n",
              "          await google.colab.kernel.invokeFunction('convertToInteractive',\n",
              "                                                    [key], {});\n",
              "        if (!dataTable) return;\n",
              "\n",
              "        const docLinkHtml = 'Like what you see? Visit the ' +\n",
              "          '<a target=\"_blank\" href=https://colab.research.google.com/notebooks/data_table.ipynb>data table notebook</a>'\n",
              "          + ' to learn more about interactive tables.';\n",
              "        element.innerHTML = '';\n",
              "        dataTable['output_type'] = 'display_data';\n",
              "        await google.colab.output.renderOutput(dataTable, element);\n",
              "        const docLink = document.createElement('div');\n",
              "        docLink.innerHTML = docLinkHtml;\n",
              "        element.appendChild(docLink);\n",
              "      }\n",
              "    </script>\n",
              "  </div>\n",
              "\n",
              "\n",
              "<div id=\"df-6e62d7a9-3762-4aff-9677-1e6c6e41e61c\">\n",
              "  <button class=\"colab-df-quickchart\" onclick=\"quickchart('df-6e62d7a9-3762-4aff-9677-1e6c6e41e61c')\"\n",
              "            title=\"Suggest charts.\"\n",
              "            style=\"display:none;\">\n",
              "\n",
              "<svg xmlns=\"http://www.w3.org/2000/svg\" height=\"24px\"viewBox=\"0 0 24 24\"\n",
              "     width=\"24px\">\n",
              "    <g>\n",
              "        <path d=\"M19 3H5c-1.1 0-2 .9-2 2v14c0 1.1.9 2 2 2h14c1.1 0 2-.9 2-2V5c0-1.1-.9-2-2-2zM9 17H7v-7h2v7zm4 0h-2V7h2v10zm4 0h-2v-4h2v4z\"/>\n",
              "    </g>\n",
              "</svg>\n",
              "  </button>\n",
              "\n",
              "<style>\n",
              "  .colab-df-quickchart {\n",
              "      --bg-color: #E8F0FE;\n",
              "      --fill-color: #1967D2;\n",
              "      --hover-bg-color: #E2EBFA;\n",
              "      --hover-fill-color: #174EA6;\n",
              "      --disabled-fill-color: #AAA;\n",
              "      --disabled-bg-color: #DDD;\n",
              "  }\n",
              "\n",
              "  [theme=dark] .colab-df-quickchart {\n",
              "      --bg-color: #3B4455;\n",
              "      --fill-color: #D2E3FC;\n",
              "      --hover-bg-color: #434B5C;\n",
              "      --hover-fill-color: #FFFFFF;\n",
              "      --disabled-bg-color: #3B4455;\n",
              "      --disabled-fill-color: #666;\n",
              "  }\n",
              "\n",
              "  .colab-df-quickchart {\n",
              "    background-color: var(--bg-color);\n",
              "    border: none;\n",
              "    border-radius: 50%;\n",
              "    cursor: pointer;\n",
              "    display: none;\n",
              "    fill: var(--fill-color);\n",
              "    height: 32px;\n",
              "    padding: 0;\n",
              "    width: 32px;\n",
              "  }\n",
              "\n",
              "  .colab-df-quickchart:hover {\n",
              "    background-color: var(--hover-bg-color);\n",
              "    box-shadow: 0 1px 2px rgba(60, 64, 67, 0.3), 0 1px 3px 1px rgba(60, 64, 67, 0.15);\n",
              "    fill: var(--button-hover-fill-color);\n",
              "  }\n",
              "\n",
              "  .colab-df-quickchart-complete:disabled,\n",
              "  .colab-df-quickchart-complete:disabled:hover {\n",
              "    background-color: var(--disabled-bg-color);\n",
              "    fill: var(--disabled-fill-color);\n",
              "    box-shadow: none;\n",
              "  }\n",
              "\n",
              "  .colab-df-spinner {\n",
              "    border: 2px solid var(--fill-color);\n",
              "    border-color: transparent;\n",
              "    border-bottom-color: var(--fill-color);\n",
              "    animation:\n",
              "      spin 1s steps(1) infinite;\n",
              "  }\n",
              "\n",
              "  @keyframes spin {\n",
              "    0% {\n",
              "      border-color: transparent;\n",
              "      border-bottom-color: var(--fill-color);\n",
              "      border-left-color: var(--fill-color);\n",
              "    }\n",
              "    20% {\n",
              "      border-color: transparent;\n",
              "      border-left-color: var(--fill-color);\n",
              "      border-top-color: var(--fill-color);\n",
              "    }\n",
              "    30% {\n",
              "      border-color: transparent;\n",
              "      border-left-color: var(--fill-color);\n",
              "      border-top-color: var(--fill-color);\n",
              "      border-right-color: var(--fill-color);\n",
              "    }\n",
              "    40% {\n",
              "      border-color: transparent;\n",
              "      border-right-color: var(--fill-color);\n",
              "      border-top-color: var(--fill-color);\n",
              "    }\n",
              "    60% {\n",
              "      border-color: transparent;\n",
              "      border-right-color: var(--fill-color);\n",
              "    }\n",
              "    80% {\n",
              "      border-color: transparent;\n",
              "      border-right-color: var(--fill-color);\n",
              "      border-bottom-color: var(--fill-color);\n",
              "    }\n",
              "    90% {\n",
              "      border-color: transparent;\n",
              "      border-bottom-color: var(--fill-color);\n",
              "    }\n",
              "  }\n",
              "</style>\n",
              "\n",
              "  <script>\n",
              "    async function quickchart(key) {\n",
              "      const quickchartButtonEl =\n",
              "        document.querySelector('#' + key + ' button');\n",
              "      quickchartButtonEl.disabled = true;  // To prevent multiple clicks.\n",
              "      quickchartButtonEl.classList.add('colab-df-spinner');\n",
              "      try {\n",
              "        const charts = await google.colab.kernel.invokeFunction(\n",
              "            'suggestCharts', [key], {});\n",
              "      } catch (error) {\n",
              "        console.error('Error during call to suggestCharts:', error);\n",
              "      }\n",
              "      quickchartButtonEl.classList.remove('colab-df-spinner');\n",
              "      quickchartButtonEl.classList.add('colab-df-quickchart-complete');\n",
              "    }\n",
              "    (() => {\n",
              "      let quickchartButtonEl =\n",
              "        document.querySelector('#df-6e62d7a9-3762-4aff-9677-1e6c6e41e61c button');\n",
              "      quickchartButtonEl.style.display =\n",
              "        google.colab.kernel.accessAllowed ? 'block' : 'none';\n",
              "    })();\n",
              "  </script>\n",
              "</div>\n",
              "    </div>\n",
              "  </div>\n"
            ]
          },
          "metadata": {},
          "execution_count": 32
        }
      ]
    },
    {
      "cell_type": "markdown",
      "source": [
        "#### Observation from above table:\n",
        "1) The top people purchasing are in the age range of 26–35.\n",
        "\n",
        "2) Males are top in purchasing\n",
        "\n",
        "3) The average purchase is 9263.96 and the maximum purchase is 23961, so the average value is sensitive to\n",
        "outliers,\n",
        "but the fact that the mean is so small compared to the maximum value indicates the maximum value is an outlier.\n"
      ],
      "metadata": {
        "id": "k5A_wZw1kvJc"
      }
    },
    {
      "cell_type": "markdown",
      "source": [
        "### Non-Graphical Analysis: Value counts and unique attributes"
      ],
      "metadata": {
        "id": "_9fcuLYfla-h"
      }
    },
    {
      "cell_type": "markdown",
      "source": [
        "### Value Counts"
      ],
      "metadata": {
        "id": "vCOH5DBHouIf"
      }
    },
    {
      "cell_type": "code",
      "source": [
        "gender_counts = a['Gender'].value_counts()\n",
        "percentage_gender_counts = (gender_counts / len(a)) * 100\n",
        "print(f\"Gender count : \\n{gender_counts} \\nGender percentage : \\n{percentage_gender_counts}\")"
      ],
      "metadata": {
        "colab": {
          "base_uri": "https://localhost:8080/"
        },
        "id": "bj9eFK1LjwX1",
        "outputId": "c48c8622-eb78-474a-f126-396ac322483a"
      },
      "execution_count": null,
      "outputs": [
        {
          "output_type": "stream",
          "name": "stdout",
          "text": [
            "Gender count : \n",
            "M    414259\n",
            "F    135809\n",
            "Name: Gender, dtype: int64 \n",
            "Gender percentage : \n",
            "M    75.310507\n",
            "F    24.689493\n",
            "Name: Gender, dtype: float64\n"
          ]
        }
      ]
    },
    {
      "cell_type": "code",
      "source": [
        "Age_counts = a['Age'].value_counts()\n",
        "percentage_Age_counts = (Age_counts / len(a)) * 100\n",
        "print(f\"Age count : \\n{Age_counts} \\nAge percentage : \\n{percentage_Age_counts}\")"
      ],
      "metadata": {
        "colab": {
          "base_uri": "https://localhost:8080/"
        },
        "id": "JpQF94irjwb5",
        "outputId": "645262b9-c72b-4b31-d908-8f7759f58d9f"
      },
      "execution_count": null,
      "outputs": [
        {
          "output_type": "stream",
          "name": "stdout",
          "text": [
            "Age count : \n",
            "26-35    219587\n",
            "36-45    110013\n",
            "18-25     99660\n",
            "46-50     45701\n",
            "51-55     38501\n",
            "55+       21504\n",
            "0-17      15102\n",
            "Name: Age, dtype: int64 \n",
            "Age percentage : \n",
            "26-35    39.919974\n",
            "36-45    19.999891\n",
            "18-25    18.117760\n",
            "46-50     8.308246\n",
            "51-55     6.999316\n",
            "55+       3.909335\n",
            "0-17      2.745479\n",
            "Name: Age, dtype: float64\n"
          ]
        }
      ]
    },
    {
      "cell_type": "code",
      "source": [
        "Stay_In_counts = a['Stay_In_Current_City_Years'].value_counts()\n",
        "percentage_Stay_In_counts = (Stay_In_counts / len(a)) * 100\n",
        "print(f\"Stay_In_Current_City_Years count : \\n{Stay_In_counts} \\nStay_In_Current_City_Years percentage : \\n{percentage_Stay_In_counts}\")"
      ],
      "metadata": {
        "colab": {
          "base_uri": "https://localhost:8080/"
        },
        "id": "grlGoQJIjwfV",
        "outputId": "9219d67c-6402-4827-94cb-09feef9d380b"
      },
      "execution_count": null,
      "outputs": [
        {
          "output_type": "stream",
          "name": "stdout",
          "text": [
            "Stay_In_Current_City_Years count : \n",
            "1     193821\n",
            "2     101838\n",
            "3      95285\n",
            "4+     84726\n",
            "0      74398\n",
            "Name: Stay_In_Current_City_Years, dtype: int64 \n",
            "Stay_In_Current_City_Years percentage : \n",
            "1     35.235825\n",
            "2     18.513711\n",
            "3     17.322404\n",
            "4+    15.402823\n",
            "0     13.525237\n",
            "Name: Stay_In_Current_City_Years, dtype: float64\n"
          ]
        }
      ]
    },
    {
      "cell_type": "code",
      "source": [
        "Marital_Status_counts = a['Marital_Status'].value_counts()\n",
        "percentage_Marital_Status_counts = (Marital_Status_counts / len(a)) * 100\n",
        "print(f\"Marital_Status count : \\n{Marital_Status_counts} \\nMarital_Status percentage :\\n{percentage_Marital_Status_counts}\")"
      ],
      "metadata": {
        "colab": {
          "base_uri": "https://localhost:8080/"
        },
        "id": "-QyO9HBnjwi2",
        "outputId": "b4e37742-ac72-463f-9a8b-da22847ee094"
      },
      "execution_count": null,
      "outputs": [
        {
          "output_type": "stream",
          "name": "stdout",
          "text": [
            "Marital_Status count : \n",
            "0    324731\n",
            "1    225337\n",
            "Name: Marital_Status, dtype: int64 \n",
            "Marital_Status percentage :\n",
            "0    59.034701\n",
            "1    40.965299\n",
            "Name: Marital_Status, dtype: float64\n"
          ]
        }
      ]
    },
    {
      "cell_type": "markdown",
      "source": [
        "#### Insights :\n",
        "1) 75% of users are male and 25% are female.\n",
        "\n",
        "2) Users ages 26–35 are 40%, users ages 36–45 are 20%, users ages 18–25 are 18%,\n",
        "and very low users ages ( 0–17 & 55+ )are 5%.\n",
        "\n",
        "3) 35% stay in a city for 1 year, 18% stay in a city for 2 years, 17% stay in a city for 3 years, and 15% stay in a city for 4+ years.\n",
        "\n",
        "4) 60% of users are single, and 40% are married.\n"
      ],
      "metadata": {
        "id": "gRKGj_SPoeIK"
      }
    },
    {
      "cell_type": "markdown",
      "source": [
        "### Unique attributes"
      ],
      "metadata": {
        "id": "sdVqjWMgpBIE"
      }
    },
    {
      "cell_type": "code",
      "source": [
        "unique_category_count = a['Product_Category'].nunique()\n",
        "print('Unique Product_Category count:',unique_category_count)"
      ],
      "metadata": {
        "colab": {
          "base_uri": "https://localhost:8080/"
        },
        "id": "nGqUBVpXn73f",
        "outputId": "23291e1a-0880-4080-877e-d6979226c470"
      },
      "execution_count": null,
      "outputs": [
        {
          "output_type": "stream",
          "name": "stdout",
          "text": [
            "Unique Product_Category count: 20\n"
          ]
        }
      ]
    },
    {
      "cell_type": "code",
      "source": [
        "unique_City_Category_count = a['City_Category'].nunique()\n",
        "print('Unique City_Category count:',unique_City_Category_count)"
      ],
      "metadata": {
        "colab": {
          "base_uri": "https://localhost:8080/"
        },
        "id": "o-ZrhfK4n77J",
        "outputId": "c1b3a388-9a78-4a2d-816d-4ac4e408bcfb"
      },
      "execution_count": null,
      "outputs": [
        {
          "output_type": "stream",
          "name": "stdout",
          "text": [
            "Unique City_Category count: 3\n"
          ]
        }
      ]
    },
    {
      "cell_type": "code",
      "source": [
        "unique_Product_ID_count = a['Product_ID'].nunique()\n",
        "print('Unique Product_ID count:',unique_Product_ID_count)"
      ],
      "metadata": {
        "colab": {
          "base_uri": "https://localhost:8080/"
        },
        "id": "JAeMh24Bn7-i",
        "outputId": "4fb60641-051f-4401-9397-cc09144d195f"
      },
      "execution_count": null,
      "outputs": [
        {
          "output_type": "stream",
          "name": "stdout",
          "text": [
            "Unique Product_ID count: 3631\n"
          ]
        }
      ]
    },
    {
      "cell_type": "code",
      "source": [
        "unique_User_ID_count = a['User_ID'].nunique()\n",
        "print('Unique User_ID count:',unique_User_ID_count)"
      ],
      "metadata": {
        "colab": {
          "base_uri": "https://localhost:8080/"
        },
        "id": "sPkPuWDPn8Bl",
        "outputId": "2b75e768-ea82-4aea-f8b0-5ae95521f0b1"
      },
      "execution_count": null,
      "outputs": [
        {
          "output_type": "stream",
          "name": "stdout",
          "text": [
            "Unique User_ID count: 5891\n"
          ]
        }
      ]
    },
    {
      "cell_type": "markdown",
      "source": [
        "### Insights :\n",
        "1) The total product category count is 20 unique products.\n",
        "\n",
        "2) The total number of unique city categories is 3.\n",
        "\n",
        "3) The total number of unique product ID's is 3631.\n",
        "\n",
        "4) The total number of unique user ID's is 5891"
      ],
      "metadata": {
        "id": "l1aQoJXdpo9y"
      }
    },
    {
      "cell_type": "markdown",
      "source": [
        "##Visual Analysis - Univariate & Bivariate"
      ],
      "metadata": {
        "id": "wtvuZXG869yP"
      }
    },
    {
      "cell_type": "markdown",
      "source": [
        "### Univariate"
      ],
      "metadata": {
        "id": "XN19CGQK7PkI"
      }
    },
    {
      "cell_type": "code",
      "source": [
        "plt.figure(figsize=(8,8))\n",
        "sns.histplot(data=a, x='Purchase', kde=True)\n",
        "plt.show()"
      ],
      "metadata": {
        "id": "PUgJtcX9n8FF",
        "colab": {
          "base_uri": "https://localhost:8080/",
          "height": 696
        },
        "outputId": "723ffff4-b874-400e-c12d-0f33c90afee7"
      },
      "execution_count": null,
      "outputs": [
        {
          "output_type": "display_data",
          "data": {
            "text/plain": [
              "<Figure size 800x800 with 1 Axes>"
            ],
            "image/png": "[encoded data removed]"
          },
          "metadata": {}
        }
      ]
    },
    {
      "cell_type": "code",
      "source": [
        "fig, axis = plt.subplots(nrows=2, ncols=2, figsize=(8,6))\n",
        "sns.histplot(data=a, x='Gender', ax=axis[0,0],color = \"orange\")\n",
        "sns.histplot(data=a, x='City_Category', ax=axis[0,1],color = \"green\")\n",
        "sns.histplot(data=a, x='Occupation', ax=axis[1,0])\n",
        "sns.histplot(data=a, x='Marital_Status',ax=axis[1,1],color = \"grey\")\n",
        "plt.show()"
      ],
      "metadata": {
        "id": "KmaICD_1plb4",
        "colab": {
          "base_uri": "https://localhost:8080/",
          "height": 542
        },
        "outputId": "34e354e2-5e0f-42c0-9643-c55b00ced682"
      },
      "execution_count": null,
      "outputs": [
        {
          "output_type": "display_data",
          "data": {
            "text/plain": [
              "<Figure size 800x600 with 4 Axes>"
            ],
            "image/png": "[encoded data removed]"
          },
          "metadata": {}
        }
      ]
    },
    {
      "cell_type": "code",
      "source": [
        "plt.figure(figsize=(12, 8))\n",
        "sns.countplot(data=a, x='Product_Category', order=a['Product_Category'].value_counts().index)\n",
        "plt.xlabel('Product Category')\n",
        "plt.ylabel('Count')\n",
        "plt.title('Count of Each Product Category')"
      ],
      "metadata": {
        "id": "q1WjnPLhple6",
        "colab": {
          "base_uri": "https://localhost:8080/",
          "height": 735
        },
        "outputId": "90112f10-1517-48bf-cb73-565fc1b5fa0e"
      },
      "execution_count": null,
      "outputs": [
        {
          "output_type": "execute_result",
          "data": {
            "text/plain": [
              "Text(0.5, 1.0, 'Count of Each Product Category')"
            ]
          },
          "metadata": {},
          "execution_count": 7
        },
        {
          "output_type": "display_data",
          "data": {
            "text/plain": [
              "<Figure size 1200x800 with 1 Axes>"
            ],
            "image/png": "[encoded data removed]"
          },
          "metadata": {}
        }
      ]
    },
    {
      "cell_type": "markdown",
      "source": [
        "### Insights\n",
        "1) The product categories 5, 1, and 8 have the highest purchase.\n",
        "\n",
        "2) Male purchasing power outnumbers female purchasing power.\n",
        "\n",
        "3) More users below in the B city region\n",
        "\n",
        "4) Max users are single.\n",
        "\n",
        "5) The maximum purchase ranges from 5000 to 15000.\n"
      ],
      "metadata": {
        "id": "vtZAFxWp92bH"
      }
    },
    {
      "cell_type": "markdown",
      "source": [
        "##Outliers detection using BoxPlots:"
      ],
      "metadata": {
        "id": "ZSq2F24y-f9p"
      }
    },
    {
      "cell_type": "code",
      "source": [
        "fig, axis = plt.subplots(nrows=1, ncols=3, figsize=(12,2))\n",
        "fig.subplots_adjust(top=2)\n",
        "sns.boxplot(data=a, x='Purchase', ax=axis[0],color = \"orange\")\n",
        "sns.boxplot(data=a, x='Occupation', ax=axis[1],color = \"blue\")\n",
        "sns.boxplot(data=a, x='Product_Category', ax=axis[2])\n",
        "plt.show()"
      ],
      "metadata": {
        "id": "zfH5Ae91pliV",
        "colab": {
          "base_uri": "https://localhost:8080/",
          "height": 458
        },
        "outputId": "41c6a44b-2775-4701-915a-d7a06fb81fd3"
      },
      "execution_count": null,
      "outputs": [
        {
          "output_type": "display_data",
          "data": {
            "text/plain": [
              "<Figure size 1200x200 with 3 Axes>"
            ],
            "image/png": "[encoded data removed]"
          },
          "metadata": {}
        }
      ]
    },
    {
      "cell_type": "markdown",
      "source": [
        "### Insights:\n",
        "1) Purchases have outliers.\n",
        "\n",
        "2) The occupation does not have any outliers.\n",
        "\n",
        "3) Product categories have some outliers, but most of the products are purchased in the range 1 to 8.\n"
      ],
      "metadata": {
        "id": "NP0KgdnC_J5N"
      }
    },
    {
      "cell_type": "markdown",
      "source": [
        "## Bivariate Analysis\n",
        "Analyzing the variation in purchases with the following,\n",
        "1. Gender vs Purchase\n",
        "2. Martial_Status vs Purchase\n",
        "3. Age vs Purchase\n",
        "4. City_Category vs Purchase\n"
      ],
      "metadata": {
        "id": "t39zLRtORQEd"
      }
    },
    {
      "cell_type": "code",
      "source": [
        "fig1, axs=plt.subplots(nrows=2,ncols=2, figsize=(8,10))\n",
        "sns.boxplot(data=a, y='Gender',x ='Purchase',ax=axs[0,0])\n",
        "axs[0,0].set_title(\"Gender vs Purchase\", fontsize=16)\n",
        "axs[0,0].set_xlabel(\"Purchase\", fontsize=16)\n",
        "axs[0,0].set_ylabel(\"Gender\", fontsize=16)\n",
        "sns.boxplot(data=a, y='Marital_Status',x ='Purchase',orient='h',ax=axs[0,1])\n",
        "axs[0,1].set_title(\"Marital_Status vs Purchase\", fontsize=16)\n",
        "axs[0,1].set_xlabel(\"Purchase\", fontsize=16)\n",
        "axs[0,1].set_ylabel(\"Marital_Status\", fontsize=16)\n",
        "sns.boxplot(data=a, y='Age',x ='Purchase',orient='h',ax=axs[1,0])\n",
        "axs[1,0].set_title(\"Age vs Purchase\", fontsize=16)\n",
        "axs[1,0].set_xlabel(\"Purchase\", fontsize=16)\n",
        "axs[1,0].set_ylabel(\"Age\", fontsize=16)\n",
        "sns.boxplot(data=a, y='City_Category',x ='Purchase',orient='h',ax=axs[1,1])\n",
        "axs[1,1].set_title(\"City_Category vs Purchase\", fontsize=16)\n",
        "axs[1,1].set_xlabel(\"Purchase\", fontsize=16)\n",
        "axs[1,1].set_ylabel(\"City_Category\", fontsize=16)\n",
        "plt.show()"
      ],
      "metadata": {
        "id": "ke0ORONMpllc",
        "colab": {
          "base_uri": "https://localhost:8080/",
          "height": 880
        },
        "outputId": "dbcef0fb-4f75-4371-a263-49416b537657"
      },
      "execution_count": null,
      "outputs": [
        {
          "output_type": "display_data",
          "data": {
            "text/plain": [
              "<Figure size 800x1000 with 4 Axes>"
            ],
            "image/png": "[encoded data removed]"
          },
          "metadata": {}
        }
      ]
    },
    {
      "cell_type": "markdown",
      "source": [
        "### Insights:\n",
        "1) Gender vs. Purchase::\n",
        "\n",
        "a) The median for males and females is almost equal.\n",
        "\n",
        "b) Females have more outliers compared to males.\n",
        "\n",
        "c) Males purchased more compared to females.\n",
        "\n",
        "2) Martial Status vs. Purchase::\n",
        "\n",
        "a) The median for married and single people is almost equal.\n",
        "\n",
        "b) Outliers are present in both records.\n",
        "\n",
        "3) Age vs. Purchase::\n",
        "\n",
        "a) The median for all age groups is almost equal.\n",
        "\n",
        "b) Outliers are present in all age groups.\n",
        "\n",
        "4) City Category vs. Purchase::\n",
        "\n",
        "a) The C city region has very low outliers compared to other cities.\n",
        "\n",
        "b) A and B city region medians are almost the same.\n"
      ],
      "metadata": {
        "id": "LFZwHOe9SfKW"
      }
    },
    {
      "cell_type": "markdown",
      "source": [
        "## Using pandas quantile funtion detecting number of outliers from purchase\n"
      ],
      "metadata": {
        "id": "DBl0U9lOU_Tm"
      }
    },
    {
      "cell_type": "code",
      "source": [
        "q1 = a[\"Purchase\"].quantile(0.25)\n",
        "q3 = a[\"Purchase\"].quantile(0.75)\n",
        "IQR = q3-q1\n",
        "outliers = a[\"Purchase\"][((a[\"Purchase\"]<(q1-1.5*IQR)) | (a[\"Purchase\"]>(q3+1.5*IQR)))]\n",
        "print(\"number of outliers: \"+ str(len(outliers)))\n",
        "print(\"max outlier value:\"+ str(outliers.max()))\n",
        "print(\"min outlier value: \"+ str(outliers.min()))"
      ],
      "metadata": {
        "id": "UaDjrqAVploL",
        "colab": {
          "base_uri": "https://localhost:8080/"
        },
        "outputId": "0ace0898-a227-413f-cdc1-15cae4b3063f"
      },
      "execution_count": null,
      "outputs": [
        {
          "output_type": "stream",
          "name": "stdout",
          "text": [
            "number of outliers: 2677\n",
            "max outlier value:23961\n",
            "min outlier value: 21401\n"
          ]
        }
      ]
    },
    {
      "cell_type": "markdown",
      "source": [
        "## Are women spending more money per transaction than men? Why or Why not?\n"
      ],
      "metadata": {
        "id": "bAbJ5rpnXLab"
      }
    },
    {
      "cell_type": "code",
      "source": [
        "avg_by_gender = a.groupby('Gender')['Purchase'].mean()\n",
        "print(f'Average purchase of male and female : \\n{avg_by_gender}')"
      ],
      "metadata": {
        "colab": {
          "base_uri": "https://localhost:8080/"
        },
        "id": "AzAMxgxVT9WX",
        "outputId": "76e3f6ad-d1c0-4152-f2bd-dc9225a964be"
      },
      "execution_count": null,
      "outputs": [
        {
          "output_type": "stream",
          "name": "stdout",
          "text": [
            "Average purchase of male and female : \n",
            "Gender\n",
            "F    8734.565765\n",
            "M    9437.526040\n",
            "Name: Purchase, dtype: float64\n"
          ]
        }
      ]
    },
    {
      "cell_type": "code",
      "source": [
        "agg_df = a.groupby(['User_ID', 'Gender'])[['Purchase']].agg({'Purchase': ['sum', 'mean']})\n",
        "agg_df = agg_df.reset_index()\n",
        "agg_df = agg_df.sort_values(by='User_ID', ascending=False)\n",
        "print(f\"Top 10 purchase from male and female\\n{agg_df.head(10)}\")"
      ],
      "metadata": {
        "colab": {
          "base_uri": "https://localhost:8080/"
        },
        "id": "bBkluW12T9Zy",
        "outputId": "4e848dfc-9f8e-46dc-fc7a-ae3a04ce8690"
      },
      "execution_count": null,
      "outputs": [
        {
          "output_type": "stream",
          "name": "stdout",
          "text": [
            "Top 10 purchase from male and female\n",
            "      User_ID Gender Purchase              \n",
            "                          sum          mean\n",
            "5890  1006040      M  1653299   9184.994444\n",
            "5889  1006039      F   590319   7977.283784\n",
            "5888  1006038      F    90034   7502.833333\n",
            "5887  1006037      F  1119538   9176.540984\n",
            "5886  1006036      F  4116058   8007.894942\n",
            "5885  1006035      F   956645   6293.717105\n",
            "5884  1006034      M   197086  16423.833333\n",
            "5883  1006033      M   501843  13940.083333\n",
            "5882  1006032      M   517261   9404.745455\n",
            "5881  1006031      F   286374   9237.870968\n"
          ]
        }
      ]
    },
    {
      "cell_type": "code",
      "source": [
        "Gender_wise_count=agg_df['Gender'].value_counts()\n",
        "print(f'Each gender wise count : \\n{Gender_wise_count}')"
      ],
      "metadata": {
        "colab": {
          "base_uri": "https://localhost:8080/"
        },
        "id": "xe3XUjfwT9c5",
        "outputId": "8f78447a-34d3-4778-8cd5-c3d07117fc1c"
      },
      "execution_count": null,
      "outputs": [
        {
          "output_type": "stream",
          "name": "stdout",
          "text": [
            "Each gender wise count : \n",
            "M    4225\n",
            "F    1666\n",
            "Name: Gender, dtype: int64\n"
          ]
        }
      ]
    },
    {
      "cell_type": "code",
      "source": [
        "sum_by_gender = a.groupby(['User_ID', 'Gender'])['Purchase'].sum()\n",
        "sum_by_gender = sum_by_gender.reset_index()\n",
        "sum_by_gender = sum_by_gender.sort_values(by='User_ID', ascending=False)\n",
        "\n",
        "# MALE data representation through a histogram\n",
        "male_data = sum_by_gender[sum_by_gender['Gender']=='M']['Purchase']\n",
        "plt.hist(male_data, bins=40)\n",
        "plt.ylabel('Purchase')\n",
        "plt.xlabel('Frequency')\n",
        "plt.title('Histogram of Purchase for Males')\n",
        "plt.show()\n",
        "\n",
        "# FEMALE data representation through a histogram\n",
        "Female_data = sum_by_gender[sum_by_gender['Gender']=='F']['Purchase']\n",
        "plt.hist(Female_data, bins=40)\n",
        "plt.ylabel('Purchase')\n",
        "plt.xlabel('Frequency')\n",
        "plt.title('Histogram of Purchase for Females')\n",
        "plt.show()"
      ],
      "metadata": {
        "colab": {
          "base_uri": "https://localhost:8080/",
          "height": 927
        },
        "id": "xzo6qu0RT9gX",
        "outputId": "38906061-1c50-4988-b55c-956fdddb9920"
      },
      "execution_count": null,
      "outputs": [
        {
          "output_type": "display_data",
          "data": {
            "text/plain": [
              "<Figure size 640x480 with 1 Axes>"
            ],
            "image/png": "[encoded data removed]"
          },
          "metadata": {}
        },
        {
          "output_type": "display_data",
          "data": {
            "text/plain": [
              "<Figure size 640x480 with 1 Axes>"
            ],
            "image/png": "[encoded data removed]"
          },
          "metadata": {}
        }
      ]
    },
    {
      "cell_type": "code",
      "source": [
        "Male_cust_avg = sum_by_gender[sum_by_gender['Gender']=='M']['Purchase'].mean()\n",
        "Female_cust_avg = sum_by_gender[sum_by_gender['Gender']=='F']['Purchase'].mean()\n",
        "print(f'Male customer average spent amount: {Male_cust_avg}')\n",
        "print(f'Female customer average spent amount: {Female_cust_avg}')"
      ],
      "metadata": {
        "colab": {
          "base_uri": "https://localhost:8080/"
        },
        "id": "N266huUVT9i3",
        "outputId": "3abd22d0-f0ac-4a5e-8505-b3fadb4a8f57"
      },
      "execution_count": null,
      "outputs": [
        {
          "output_type": "stream",
          "name": "stdout",
          "text": [
            "Male customer average spent amount: 925344.4023668639\n",
            "Female customer average spent amount: 712024.3949579832\n"
          ]
        }
      ]
    },
    {
      "cell_type": "markdown",
      "source": [
        "### Insights:\n",
        "1) Male customers spend more money than female customers.\n",
        "\n",
        "2) The highest purchase has been made from this user id: `1006040`, and the gender is male.\n",
        "\n",
        "3) Most of the females also purchase, but they don't spend a lot more."
      ],
      "metadata": {
        "id": "fZMU3fKyapcq"
      }
    },
    {
      "cell_type": "markdown",
      "source": [
        "## Confidence intervals and distribution of the mean of the expenses by female and male customers."
      ],
      "metadata": {
        "id": "Y-_awyQJcnqn"
      }
    },
    {
      "cell_type": "code",
      "source": [
        "# filtering gender wise dataframe\n",
        "male_df = sum_by_gender[sum_by_gender['Gender']=='M']\n",
        "female_df = sum_by_gender[sum_by_gender['Gender']=='F']\n",
        "\n",
        "# Taking random sample size from dataframe\n",
        "male_sample_size = 3000\n",
        "female_sample_size = 1000\n",
        "num_repitions = 1000\n",
        "\n",
        "# Taking random sample from male and female dataframe\n",
        "random_sample_male = male_df.sample(n=male_sample_size)\n",
        "random_sample_female = female_df.sample(n=female_sample_size)\n",
        "\n",
        "# Taking mean value from random sample male and female dataframe\n",
        "male_means = random_sample_male['Purchase'].mean()\n",
        "print(f'Population mean: random male samples mean purchase value: {male_means}')\n",
        "female_means = random_sample_female['Purchase'].mean()\n",
        "print(f'Population mean: random Female samples mean purchase value : {female_means}')\n",
        "\n",
        "# Taking sample mean from filtered male dataframe\n",
        "Male_sample_mean = round(male_df['Purchase'].mean(),2)\n",
        "print(f'Sample means of Male purchase : {Male_sample_mean}')\n",
        "Male_std_value = round(male_df['Purchase'].std(),2)\n",
        "print(f'Sample STD of Male purchase : {Male_std_value}')\n",
        "\n",
        "# Taking sample mean from filtered female dataframe\n",
        "Female_sample_mean = round(female_df['Purchase'].mean(),2)\n",
        "print(f'Sample means of Female purchase : {Female_sample_mean}')\n",
        "Female_std_value = round(female_df['Purchase'].std(),2)\n",
        "print(f'Sample STD of Female purchase : {Female_std_value}')\n",
        "\n",
        "# taking blank list to creat histogram\n",
        "male_means1 = []\n",
        "female_means1 = []\n",
        "\n",
        "# using for loop to create again mean value for histogram\n",
        "for _ in range(num_repitions):\n",
        " male_mean2 = male_df.sample(male_sample_size,replace=True)['Purchase'].mean()\n",
        " female_mean2 = female_df.sample(female_sample_size,replace=True)['Purchase'].mean()\n",
        " male_means1.append(male_mean2)\n",
        " female_means1.append(female_mean2)\n",
        "\n",
        "# making histogram to check visually distribution mean for male and female\n",
        "fig, axis = plt.subplots(nrows=1, ncols=2, figsize=(20, 6))\n",
        "axis[0].hist(male_means1, bins=35)\n",
        "axis[1].hist(female_means1, bins=35)\n",
        "axis[0].set_title(\"Male - Distribution of means, Sample size: 3000\")\n",
        "axis[1].set_title(\"Female - Distribution of means, Sample size: 1500\")\n",
        "plt.show()\n"
      ],
      "metadata": {
        "colab": {
          "base_uri": "https://localhost:8080/",
          "height": 548
        },
        "id": "NrvhNhhuT9mI",
        "outputId": "38fa91b4-dd1c-41d4-e0ee-2176a9700049"
      },
      "execution_count": null,
      "outputs": [
        {
          "output_type": "stream",
          "name": "stdout",
          "text": [
            "Population mean: random male samples mean purchase value: 922195.5103333333\n",
            "Population mean: random Female samples mean purchase value : 724406.492\n",
            "Sample means of Male purchase : 925344.4\n",
            "Sample STD of Male purchase : 985830.1\n",
            "Sample means of Female purchase : 712024.39\n",
            "Sample STD of Female purchase : 807370.73\n"
          ]
        },
        {
          "output_type": "display_data",
          "data": {
            "text/plain": [
              "<Figure size 2000x600 with 2 Axes>"
            ],
            "image/png": "[encoded data removed]"
          },
          "metadata": {}
        }
      ]
    },
    {
      "cell_type": "markdown",
      "source": [
        "### Insight\n",
        "1) The average amount spent by male customers is 925344.4.\n",
        "\n",
        "2) The average amount spent by female customers is 712024.39.\n",
        "\n",
        "3) Male customers have made more purchases than female customers."
      ],
      "metadata": {
        "id": "4u7FYIeti-kX"
      }
    },
    {
      "cell_type": "markdown",
      "source": [
        "##  Are confidence intervals of average male and female spending overlapping? How can company leverage this conclusion to make changes or improvements?"
      ],
      "metadata": {
        "id": "jecFbDeBoyS0"
      }
    },
    {
      "cell_type": "code",
      "source": [
        "#sample size\n",
        "sample_size = 3000\n",
        "\n",
        "# Confidence level ( 95% confidence interval)\n",
        "confidence_level = 0.95\n",
        "\n",
        "# Calculate the margin of error using the z-distribution for male\n",
        "z_critical = stats.norm.ppf((1 + confidence_level) / 2)\n",
        "margin_of_error = z_critical * (Male_std_value / np.sqrt(sample_size))\n",
        "\n",
        "# Calculate the margin of error using the z-distribution for female\n",
        "z_critical = stats.norm.ppf((1 + confidence_level) / 2)\n",
        "margin_of_error = z_critical * (Female_std_value / np.sqrt(sample_size))\n",
        "\n",
        "# Calculate the confidence interval for male and presenting it on the graph\n",
        "Male_confidence_interval = (Male_sample_mean - margin_of_error, Male_sample_mean + margin_of_error)\n",
        "print(\"Confidence Interval 95% Male:\", Male_confidence_interval)\n",
        "sns.kdeplot(Male_confidence_interval)\n",
        "plt.xlabel('Values')\n",
        "plt.ylabel('Density')\n",
        "plt.title('Kernel Density Estimate with Confidence Interval for Male')\n",
        "plt.show()\n",
        "\n",
        "# Calculate the confidence interval for female and presenting it on the graph\n",
        "Female_confidence_interval = (Female_sample_mean - margin_of_error, Female_sample_mean + margin_of_error)\n",
        "print(\"Confidence Interval 95% Female:\", Female_confidence_interval)\n",
        "sns.kdeplot(Female_confidence_interval)\n",
        "plt.xlabel('Values')\n",
        "plt.ylabel('Density')\n",
        "plt.title('Kernel Density Estimate with Confidence Interval for Female')\n",
        "plt.show()"
      ],
      "metadata": {
        "colab": {
          "base_uri": "https://localhost:8080/",
          "height": 992
        },
        "id": "ZwfyxgvqT9o2",
        "outputId": "b2838491-9bb5-4993-ec8d-d19f8ec6cec7"
      },
      "execution_count": null,
      "outputs": [
        {
          "output_type": "stream",
          "name": "stdout",
          "text": [
            "Confidence Interval 95% Male: (896453.5403615071, 954235.259638493)\n"
          ]
        },
        {
          "output_type": "display_data",
          "data": {
            "text/plain": [
              "<Figure size 640x480 with 1 Axes>"
            ],
            "image/png": "[encoded data removed]"
          },
          "metadata": {}
        },
        {
          "output_type": "stream",
          "name": "stdout",
          "text": [
            "Confidence Interval 95% Female: (683133.5303615071, 740915.2496384929)\n"
          ]
        },
        {
          "output_type": "display_data",
          "data": {
            "text/plain": [
              "<Figure size 640x480 with 1 Axes>"
            ],
            "image/png": "[encoded data removed]"
          },
          "metadata": {}
        }
      ]
    },
    {
      "cell_type": "markdown",
      "source": [
        "### Insight\n",
        "1) With reference to the above data, at a 95% confidence interval:\n",
        "\n",
        "a) The average amount spent by male customers will lie between 896453.54 and 954235.25.\n",
        "\n",
        "b) The average amount spent by female customers will lie between 683133.53 and 740915.24.\n",
        "\n",
        "2) Confidence intervals for average male and female spending are not overlapping.\n",
        "\n",
        "3) With respect to the above data, company should target more male customers, as they spend a lot compared to females.\n"
      ],
      "metadata": {
        "id": "GxdJduM8uwCo"
      }
    },
    {
      "cell_type": "markdown",
      "source": [
        "##  Results when the same activity is performed for Married vs Unmarried"
      ],
      "metadata": {
        "id": "LoS7K9xpvGw4"
      }
    },
    {
      "cell_type": "code",
      "source": [
        "sum_by_Marital_Status = a.groupby(['User_ID', 'Marital_Status'])['Purchase'].sum()\n",
        "sum_by_Marital_Status = sum_by_Marital_Status.reset_index()\n",
        "sum_by_Marital_Status = sum_by_Marital_Status.sort_values(by='User_ID', ascending=False)\n",
        "Married_cust_avg = sum_by_Marital_Status[sum_by_Marital_Status['Marital_Status']==1]['Purchase'].mean()\n",
        "print(f'Married customer average spent amount: {Married_cust_avg}')"
      ],
      "metadata": {
        "colab": {
          "base_uri": "https://localhost:8080/"
        },
        "id": "cqYU5qjMT9sE",
        "outputId": "2c0f84ca-370b-4878-9055-4d92383c45dd"
      },
      "execution_count": null,
      "outputs": [
        {
          "output_type": "stream",
          "name": "stdout",
          "text": [
            "Married customer average spent amount: 843526.7966855295\n"
          ]
        }
      ]
    },
    {
      "cell_type": "code",
      "source": [
        "sum_by_Marital_Status = a.groupby(['User_ID', 'Marital_Status'])['Purchase'].sum()\n",
        "sum_by_Marital_Status = sum_by_Marital_Status.reset_index()\n",
        "sum_by_Marital_Status = sum_by_Marital_Status.sort_values(by='User_ID', ascending=False)\n",
        "Unmarried_cust_avg = sum_by_Marital_Status[sum_by_Marital_Status['Marital_Status']==0]['Purchase'].mean()\n",
        "print(f'Unmarried customer average spent amount: {Unmarried_cust_avg}')"
      ],
      "metadata": {
        "id": "B3hQIY8ejwll",
        "colab": {
          "base_uri": "https://localhost:8080/"
        },
        "outputId": "cd521352-21d0-4358-f796-8d239bc996b5"
      },
      "execution_count": null,
      "outputs": [
        {
          "output_type": "stream",
          "name": "stdout",
          "text": [
            "Unmarried customer average spent amount: 880575.7819724905\n"
          ]
        }
      ]
    },
    {
      "cell_type": "code",
      "source": [
        "# filtering Marital Status wise dataframe\n",
        "Unmarried_df = sum_by_Marital_Status[sum_by_Marital_Status['Marital_Status']==0]\n",
        "Married_df = sum_by_Marital_Status[sum_by_Marital_Status['Marital_Status']==1]\n",
        "\n",
        "# Taking random sample size from dataframe\n",
        "Unmarried_sample_size = 3000\n",
        "Married_sample_size = 2000\n",
        "num_repitions = 1000\n",
        "\n",
        "# Taking random sample from unmarried and married dataframe\n",
        "random_sample_Unmarried = Unmarried_df.sample(n=Unmarried_sample_size)\n",
        "random_sample_Married = Married_df.sample(n=Married_sample_size)\n",
        "\n",
        "# Taking mean value from random sample unmarried and married dataframe\n",
        "Unmarried_means = round(random_sample_Unmarried['Purchase'].mean(),2)\n",
        "print(f'Population mean: random Unmarried samples mean purchase value: {Unmarried_means}')\n",
        "Married_means = round(random_sample_Married['Purchase'].mean(),2)\n",
        "print(f'Population mean: random Married samples mean purchase value : {Married_means}')\n",
        "\n",
        "# Taking sample mean from filtered unmarried dataframe\n",
        "Unmarried_sample_mean = round(Unmarried_df['Purchase'].mean(),2)\n",
        "print(f'Sample means of Unmarried purchase : {Unmarried_sample_mean}')\n",
        "Unmarried_std_value = round(Unmarried_df['Purchase'].std(),2)\n",
        "print(f'Sample STD of Unmarried purchase : {Unmarried_std_value}')\n",
        "\n",
        "# Taking sample mean from filtered Married dataframe\n",
        "Married_sample_mean = round(Married_df['Purchase'].mean(),2)\n",
        "print(f'Sample means of Married purchase : {Married_sample_mean}')\n",
        "Married_std_value = round(Married_df['Purchase'].std(),2)\n",
        "print(f'Sample STD of Married purchase : {Married_std_value}')\n",
        "\n",
        "# taking blank list to creat histogram\n",
        "Unmarried_means1 = []\n",
        "Married_means1 = []\n",
        "\n",
        "# using for loop to create again mean value for histogram\n",
        "for _ in range(num_repitions):\n",
        " Unmarried_mean2 = Unmarried_df.sample(Unmarried_sample_size,replace=True)['Purchase'].mean()\n",
        " Married_mean2 = Married_df.sample(Married_sample_size,replace=True)['Purchase'].mean()\n",
        " Unmarried_means1.append(Unmarried_mean2)\n",
        " Married_means1.append(Married_mean2)\n",
        "\n",
        "# making histogram to check visually distribution mean for Unmarried and Married\n",
        "fig, axis = plt.subplots(nrows=1, ncols=2, figsize=(20, 6))\n",
        "axis[0].hist(Unmarried_means1, bins=35)\n",
        "axis[1].hist(Married_means1, bins=35)\n",
        "axis[0].set_title(\"Unmarried - Distribution of means, Sample size: 3000\")\n",
        "axis[1].set_title(\"Married - Distribution of means, Sample size: 2000\")\n",
        "plt.show()\n"
      ],
      "metadata": {
        "id": "0mNW9HbRjwoz",
        "colab": {
          "base_uri": "https://localhost:8080/",
          "height": 539
        },
        "outputId": "39463590-4b47-4529-a84a-fdff80c56768"
      },
      "execution_count": null,
      "outputs": [
        {
          "output_type": "stream",
          "name": "stdout",
          "text": [
            "Population mean: random Unmarried samples mean purchase value: 876447.92\n",
            "Population mean: random Married samples mean purchase value : 842346.58\n",
            "Sample means of Unmarried purchase : 880575.78\n",
            "Sample STD of Unmarried purchase : 949436.25\n",
            "Sample means of Married purchase : 843526.8\n",
            "Sample STD of Married purchase : 935352.12\n"
          ]
        },
        {
          "output_type": "display_data",
          "data": {
            "text/plain": [
              "<Figure size 2000x600 with 2 Axes>"
            ],
            "image/png": "[encoded data removed]"
          },
          "metadata": {}
        }
      ]
    },
    {
      "cell_type": "markdown",
      "source": [
        "### Insight\n",
        "1) Unmarried customer average spent amount: 880575.7819724905\n",
        "\n",
        "2) Married customer average spent amount: 843526.7966855295\n",
        "\n",
        "3) Unmarried customers spend more than married customers."
      ],
      "metadata": {
        "id": "U1TvmrAKw6PH"
      }
    },
    {
      "cell_type": "code",
      "source": [
        "#sample size\n",
        "sample_size = 3000\n",
        "\n",
        "# Confidence level ( 95% confidence interval)\n",
        "confidence_level = 0.95\n",
        "\n",
        "# Calculate the margin of error using the z-distribution for male\n",
        "z_critical = stats.norm.ppf((1 + confidence_level) / 2) # Z-score for the desired confidence level\n",
        "margin_of_error = z_critical * (Unmarried_std_value / np.sqrt(sample_size))\n",
        "\n",
        "# Calculate the margin of error using the z-distribution for female\n",
        "z_critical = stats.norm.ppf((1 + confidence_level) / 2) # Z-score for the desired confidence level\n",
        "margin_of_error = z_critical * (Married_std_value / np.sqrt(sample_size))\n",
        "\n",
        "# Calculate the confidence interval for Unmarried and presenting it on the graph\n",
        "Unmarried_confidence_interval = (Unmarried_sample_mean - margin_of_error, Unmarried_sample_mean + margin_of_error)\n",
        "print(\"Confidence Interval 95% Unmarried:\", Unmarried_confidence_interval)\n",
        "sns.kdeplot(Unmarried_confidence_interval)\n",
        "plt.xlabel('Values')\n",
        "plt.ylabel('Density')\n",
        "plt.title('Kernel Density Estimate with Confidence Interval for Unmarried')\n",
        "plt.show()\n",
        "\n",
        "# Calculate the confidence interval for female and presenting it on the graph\n",
        "Married_confidence_interval = (Married_sample_mean - margin_of_error, Married_sample_mean + margin_of_error)\n",
        "print(\"Confidence Interval 95% Married:\", Married_confidence_interval)\n",
        "sns.kdeplot(Married_confidence_interval)\n",
        "plt.xlabel('Values')\n",
        "plt.ylabel('Density')\n",
        "plt.title('Kernel Density Estimate with Confidence Interval for Married')\n",
        "plt.show()"
      ],
      "metadata": {
        "id": "cGk8gOkrjwsG",
        "colab": {
          "base_uri": "https://localhost:8080/",
          "height": 992
        },
        "outputId": "b0ff5972-3c1b-42a5-97c9-7634dcb99e74"
      },
      "execution_count": null,
      "outputs": [
        {
          "output_type": "stream",
          "name": "stdout",
          "text": [
            "Confidence Interval 95% Unmarried: (847105.2492916514, 914046.3107083486)\n"
          ]
        },
        {
          "output_type": "display_data",
          "data": {
            "text/plain": [
              "<Figure size 640x480 with 1 Axes>"
            ],
            "image/png": "[encoded data removed]"
          },
          "metadata": {}
        },
        {
          "output_type": "stream",
          "name": "stdout",
          "text": [
            "Confidence Interval 95% Married: (810056.2692916514, 876997.3307083487)\n"
          ]
        },
        {
          "output_type": "display_data",
          "data": {
            "text/plain": [
              "<Figure size 640x480 with 1 Axes>"
            ],
            "image/png": "[encoded data removed]"
          },
          "metadata": {}
        }
      ]
    },
    {
      "cell_type": "markdown",
      "source": [
        "### Insight\n",
        "1) With reference to the above data, at a 95% confidence interval:\n",
        "\n",
        "a) The average amount spent by an unmarried customer will lie\n",
        "between 847105.2492916514 and 914046.3107083486.\n",
        "\n",
        "b) The average amount spent by a married customer will lie\n",
        "between 810056.2692916514 and 876997.3307083487.\n",
        "\n",
        "2) Confidence intervals for average unmarried and married spending are overlapping.\n",
        "\n",
        "3) With respect to the above data, company should target more unmarried customers, as they spend a lot compared to married customers."
      ],
      "metadata": {
        "id": "kHchLsPyxyaH"
      }
    },
    {
      "cell_type": "markdown",
      "source": [
        "## Results when the same activity is performed for Age"
      ],
      "metadata": {
        "id": "E-LRI7NnygjH"
      }
    },
    {
      "cell_type": "code",
      "source": [
        "def age_group_means_and_ci(df):\n",
        "  sum_by_age = df.groupby(['User_ID', 'Age'])['Purchase'].sum().reset_index()\n",
        "\n",
        "  # Create dict and filtering data age group wise\n",
        "  age_groups = {\n",
        "  'Age_0_17': sum_by_age[sum_by_age['Age'] == '0-17'],\n",
        "  'Age_18_25': sum_by_age[sum_by_age['Age'] == '18-25'],\n",
        "  'Age_26_35': sum_by_age[sum_by_age['Age'] == '26-35'],\n",
        "  'Age_36_45': sum_by_age[sum_by_age['Age'] == '36-45'],\n",
        "  'Age_46_50': sum_by_age[sum_by_age['Age'] == '46-50'],\n",
        "  'Age_51_55': sum_by_age[sum_by_age['Age'] == '51-55'],\n",
        "  'Age_55+': sum_by_age[sum_by_age['Age'] == '55+'] }\n",
        "\n",
        " # Define sample sizes and number of repetitions\n",
        "  sample_sizes = {\n",
        "  'Age_0_17': 200,\n",
        "  'Age_18_25': 1000,\n",
        "  'Age_26_35': 2000,\n",
        "  'Age_36_45': 1000,\n",
        "  'Age_46_50': 500,\n",
        "  'Age_51_55': 400,\n",
        "  'Age_55+': 300\n",
        " }\n",
        "  num_repitions = 1000\n",
        "\n",
        " # Create a dictionary to store results\n",
        "  results = {}\n",
        "\n",
        " # Perform random sampling and calculate means for each age group\n",
        "  for age_group, age_df in age_groups.items():\n",
        "    sample_size = sample_sizes.get(age_group, 0)\n",
        "    sample_means = []\n",
        "    for _ in range(num_repitions):\n",
        "      random_sample = age_df.sample(n=sample_size)\n",
        "      sample_mean = random_sample['Purchase'].mean()\n",
        "      sample_means.append(sample_mean)\n",
        "\n",
        "    # Calculate the population mean, sample mean, and standard deviation\n",
        "    population_mean = age_df['Purchase'].mean()\n",
        "    sample_mean_mean = pd.Series(sample_means).mean()\n",
        "    sample_mean_std = pd.Series(sample_means).std()\n",
        "\n",
        "    # Calculate the confidence interval using the z-distribution\n",
        "    confidence_level = 0.95 # 95% confidence interval\n",
        "    z_critical = stats.norm.ppf((1 + confidence_level) / 2) # Z-score for the desired confidence level\n",
        "    margin_of_error = z_critical * (age_df['Purchase'].std() / np.sqrt(sample_size))\n",
        "    lower_bound = sample_mean_mean - margin_of_error\n",
        "    upper_bound = sample_mean_mean + margin_of_error\n",
        "    results[age_group] = {\n",
        " 'Population Mean': population_mean,\n",
        " 'Sample Mean Mean': sample_mean_mean,\n",
        " 'Sample Mean Std': sample_mean_std,\n",
        " 'Confidence Interval': (lower_bound, upper_bound)\n",
        " }\n",
        "  return results\n",
        "results = age_group_means_and_ci(a)\n",
        "for age_group, metrics in results.items():\n",
        "  print(f'{age_group} average spent value, random mean value, std value and Confidence Interval:')\n",
        "  print(f'{age_group} customer average spent amount: {metrics[\"Population Mean\"]}')\n",
        "  print(f'Random Sample Mean : {metrics[\"Sample Mean Mean\"]}')\n",
        "  print(f'Sample Mean Std: {metrics[\"Sample Mean Std\"]}')\n",
        "  print(f'Confidence Interval: {metrics[\"Confidence Interval\"]}')\n",
        "  print()"
      ],
      "metadata": {
        "id": "ibLBoa2Mjwvn",
        "colab": {
          "base_uri": "https://localhost:8080/"
        },
        "outputId": "6082d4ca-c845-47fa-9c13-a55abdb8f9ce"
      },
      "execution_count": null,
      "outputs": [
        {
          "output_type": "stream",
          "name": "stdout",
          "text": [
            "Age_0_17 average spent value, random mean value, std value and Confidence Interval:\n",
            "Age_0_17 customer average spent amount: 618867.8119266055\n",
            "Random Sample Mean : 618814.743275\n",
            "Sample Mean Std: 13619.711109905089\n",
            "Confidence Interval: (523595.3066193958, 714034.1799306042)\n",
            "\n",
            "Age_18_25 average spent value, random mean value, std value and Confidence Interval:\n",
            "Age_18_25 customer average spent amount: 854863.119738073\n",
            "Random Sample Mean : 855250.741777\n",
            "Sample Mean Std: 7116.521631653683\n",
            "Confidence Interval: (800215.5924034603, 910285.8911505397)\n",
            "\n",
            "Age_26_35 average spent value, random mean value, std value and Confidence Interval:\n",
            "Age_26_35 customer average spent amount: 989659.3170969313\n",
            "Random Sample Mean : 989779.5264295\n",
            "Sample Mean Std: 3575.4283130727167\n",
            "Confidence Interval: (944568.0500995766, 1034991.0027594233)\n",
            "\n",
            "Age_36_45 average spent value, random mean value, std value and Confidence Interval:\n",
            "Age_36_45 customer average spent amount: 879665.7103684661\n",
            "Random Sample Mean : 879191.5393559999\n",
            "Sample Mean Std: 11709.213418285493\n",
            "Confidence Interval: (818353.6745436265, 940029.4041683733)\n",
            "\n",
            "Age_46_50 average spent value, random mean value, std value and Confidence Interval:\n",
            "Age_46_50 customer average spent amount: 792548.7815442561\n",
            "Random Sample Mean : 792568.984518\n",
            "Sample Mean Std: 10079.449922503012\n",
            "Confidence Interval: (711113.8432193678, 874024.1258166323)\n",
            "\n",
            "Age_51_55 average spent value, random mean value, std value and Confidence Interval:\n",
            "Age_51_55 customer average spent amount: 763200.9230769231\n",
            "Random Sample Mean : 762513.3232074999\n",
            "Sample Mean Std: 16980.662520105576\n",
            "Confidence Interval: (684867.1701385273, 840159.4762764726)\n",
            "\n",
            "Age_55+ average spent value, random mean value, std value and Confidence Interval:\n",
            "Age_55+ customer average spent amount: 539697.2446236559\n",
            "Random Sample Mean : 540631.6355133334\n",
            "Sample Mean Std: 15007.86967637854\n",
            "Confidence Interval: (470758.6069360459, 610504.6640906208)\n",
            "\n"
          ]
        }
      ]
    },
    {
      "cell_type": "markdown",
      "source": [
        "### Insights::\n",
        "1) With reference to the above data, at a 95% confidence interval:\n",
        "\n",
        "a) The highest average amount spent by 26- to 35-year-old customers will lie between 944419.9990 and 1034842.9516.\n",
        "\n",
        "b) The average amount spent by 36- to 45-year-old customers will lie between 819003.0902 and 940678.8198.\n",
        "\n",
        "c) The average amount spent by 18- to 25-year-old customers will lie between 799594.4375 and 909664.7362.\n",
        "\n",
        "d) The average amount spent by 46- to 50-year-old customers will lie between 711215.1004 and 874125.3830.\n",
        "\n",
        "e) The average amount spent by 51- to 55-year-old customers will lie between 685670.0292 and 840962.3353.\n",
        "\n",
        "f) The average amount spent by 55+ age group customers will lie between 470454.5225 and 610200.5797.\n",
        "\n",
        "g) The lowest average amount spent by 0 to 17-year-old customers will lie between 524534.4423 and 714973.3156.\n",
        "\n",
        "2) From the above data, it is clear that the age group 26 to 35 spends more compared to other age categories.\n",
        "\n",
        "3) Age groups above 55 and below 0 to 17 spend very little compared to others.\n",
        "\n",
        "4) Confidence intervals for average 26- to 35-year-old and 36- to 45-year-old spending are not overlapping.\n",
        "\n",
        "5) With respect to the above data, the company should target the age category between 26 and 35, as they spend more money compared to others.\n"
      ],
      "metadata": {
        "id": "GKRJ14xfEVz_"
      }
    },
    {
      "cell_type": "markdown",
      "source": [
        "# Recommendations\n",
        "\n",
        "1) Men spend more money than women, so the company should focus on retaining male customers and getting more male customers.\n",
        "\n",
        "2) Product Category: 5, 1, and 8 have the highest purchasing frequency.It means the products in these categories are liked more by customers.The company can focus on selling more of these products.\n",
        "\n",
        "3) Product Category: 11, 2, and 6, 3 have almost close competition in purchasing. The company can focus on selling more of these products.\n",
        "\n",
        "4) Unmarried customers spend more money compared to married customers. So the company should focus on retaining the unmarried customers and getting more unmarried customers.\n",
        "\n",
        "5) 86% of purchases are done by customers whose ages are between 18 and 45. So the company should focus on the acquisition of customers who are aged 18–45.\n",
        "\n",
        "6) Customers living in City_Category C spend more money than other customers living in B or A. Selling more products in City Category C will help the company increase sales."
      ],
      "metadata": {
        "id": "NLKL0cEQJqu5"
      }
    },
    {
      "cell_type": "code",
      "source": [],
      "metadata": {
        "id": "1S64Bk-6xs3N"
      },
      "execution_count": null,
      "outputs": []
    },
    {
      "cell_type": "code",
      "source": [
        "import numpy as np\n",
        "from scipy.stats import ttest_1samp,ttest_ind\n",
        "y=[26.04,25.12,27.31,25.03,25.06,27.53,25.19,26.6,24.17,27.76]\n",
        "x=[27.08,26.13,27.64,26.19,28.71,28.63,27.96,28.62,26.21,28.31]\n",
        "m1=np.mean(x)\n",
        "m2=np.mean(y)\n",
        "t,p=ttest_ind(x,y,alternative=\"greater\")\n",
        "print(t,p,m1,m2)"
      ],
      "metadata": {
        "id": "wnpU_h6exs6P",
        "colab": {
          "base_uri": "https://localhost:8080/"
        },
        "outputId": "db261fb2-84e6-447c-a523-9d5f02e230c6"
      },
      "execution_count": null,
      "outputs": [
        {
          "output_type": "stream",
          "name": "stdout",
          "text": [
            "3.0089119216395837 0.003768931730051769 27.547999999999995 25.981\n"
          ]
        }
      ]
    },
    {
      "cell_type": "code",
      "source": [
        "import numpy as np\n",
        "from scipy.stats import norm\n",
        "p=norm.cdf(6.67)\n",
        "print(p)"
      ],
      "metadata": {
        "id": "SWUzkiZpxs9U",
        "colab": {
          "base_uri": "https://localhost:8080/"
        },
        "outputId": "415305f3-37b5-452d-a8f9-410d858a754e"
      },
      "execution_count": null,
      "outputs": [
        {
          "output_type": "stream",
          "name": "stdout",
          "text": [
            "0.9999999999872098\n"
          ]
        }
      ]
    },
    {
      "cell_type": "code",
      "source": [
        "import numpy as np\n",
        "from scipy.stats import f_oneway\n",
        "x=[13,10,11,10,13,10,12,10,11,10,13,11,12,9,12]\n",
        "y=[10,8,10,10,9,9,7,12,14,12,12,14,14,11,13]\n",
        "z=[11,10,9,8,13,9,7,11,10,9,12,8,14,11,14]\n",
        "\n",
        "t,p=f_oneway(x,y,z)\n",
        "print(t,p)"
      ],
      "metadata": {
        "id": "pUbgWxHextAn",
        "colab": {
          "base_uri": "https://localhost:8080/"
        },
        "outputId": "2b32083b-7f3b-4fa7-e1ce-2127daa9a84f"
      },
      "execution_count": null,
      "outputs": [
        {
          "output_type": "stream",
          "name": "stdout",
          "text": [
            "0.6033472803347281 0.5516494633980511\n"
          ]
        }
      ]
    },
    {
      "cell_type": "code",
      "source": [
        "import numpy as np\n",
        "from scipy.stats import ttest_1samp,ttest_ind\n",
        "x=[101,124,89,57,135,98,69,105,114,106,97,121,93,116,102,71,88,108,144,99]\n",
        "y=[113,127,89,70,127,104,69,127,115,99,104,120,95,129,106,71,94,112,154,96]\n",
        "m1=np.mean(x)\n",
        "m2=np.mean(y)\n",
        "t,p=ttest_1samp(y,101.85,alternative=\"less\")\n",
        "print(t,p,m1,m2)"
      ],
      "metadata": {
        "id": "zjQTUc8RxtDh",
        "colab": {
          "base_uri": "https://localhost:8080/"
        },
        "outputId": "05f4ee97-59a2-4eec-ae6d-9ce6fe19c564"
      },
      "execution_count": null,
      "outputs": [
        {
          "output_type": "stream",
          "name": "stdout",
          "text": [
            "0.857370766619833 0.7990372244711301 101.85 106.05\n"
          ]
        }
      ]
    },
    {
      "cell_type": "code",
      "source": [
        "import numpy as np\n",
        "from scipy.stats import ttest_rel\n",
        "x=[101,124,89,57,135,98,69,105,114,106,97,121,93,116,102,71,88,108,144,99]\n",
        "y=[113,127,89,70,127,104,69,127,115,99,104,120,95,129,106,71,94,112,154,96]\n",
        "t,p=ttest_rel(x,y,alternative=\"less\")\n",
        "print(t,p)"
      ],
      "metadata": {
        "id": "BOwu_Z1AxtGY",
        "colab": {
          "base_uri": "https://localhost:8080/"
        },
        "outputId": "17ea9b0e-d15b-46ab-83b5-84f83b5c9945"
      },
      "execution_count": null,
      "outputs": [
        {
          "output_type": "stream",
          "name": "stdout",
          "text": [
            "-2.5849213105659876 0.009079862169696327\n"
          ]
        }
      ]
    },
    {
      "cell_type": "code",
      "source": [],
      "metadata": {
        "id": "WMgbsymsxtJl"
      },
      "execution_count": null,
      "outputs": []
    }
  ]
}